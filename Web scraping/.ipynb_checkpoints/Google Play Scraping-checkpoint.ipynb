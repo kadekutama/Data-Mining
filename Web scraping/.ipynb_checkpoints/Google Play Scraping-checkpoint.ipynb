{
 "cells": [
  {
   "cell_type": "markdown",
   "metadata": {},
   "source": [
    "# Google Play Scraping\n",
    "## Get Information from an Application\n",
    "\n",
    "### Kadek Dwi Budi Utama\n",
    "### https://github.com/kadekutama\n",
    "\n",
    "2016"
   ]
  },
  {
   "cell_type": "markdown",
   "metadata": {},
   "source": [
    "### URL Initialization and Getting Access to Google Play\n",
    "In this tutorial, we will scrap a game called Does not Commute."
   ]
  },
  {
   "cell_type": "code",
   "execution_count": 1,
   "metadata": {
    "collapsed": false
   },
   "outputs": [
    {
     "name": "stdout",
     "output_type": "stream",
     "text": [
      "<urllib3.response.HTTPResponse object at 0x00000197E5D05208>\n",
      "b'!doctype html>\\n<html xmlns=\"http://www.w3.org/1999/xhtml\" xmlns:og=\"http://ogp.me/ns#\" lang=\"en\"><head><script>(function(){window.latencyTrackerTimes={clientSideStartMs:Date.now()};})();</script><script>(function(){function _DumpException(b){window.console.error(b.stack)};var f=this,m=Date.now||function(){return+new Date};function aa(b,d){var a=[\"LOWLIFE_wizbind\"],c=d||f;a[0]in c||!c.execScript||c.execScript(\"var \"+a[0]);for(var e;a.length&&(e=a.shift());)a.length||void 0===b?c[e]?c=c[e]:c=c[e]={}:c[e]=b};function ba(b,d){if(null===d)return!1;if(\"contains\"in b&&1==d.nodeType)return b.contains(d);if(\"compareDocumentPosition\"in b)return b==d||!!(b.compareDocumentPosition(d)&16);for(;d&&b!=d;)d=d.parentNode;return d==b};var v={};function ca(b,d){return function(a){a||(a=window.event);return d.call(b,a)}}function y(b){b=b.target||b.srcElement;!b.getAttribute&&b.parentNode&&(b=b.parentNode);return b}var C=\"undefined\"!=typeof navigator&&/Macintosh/.test(navigator.userAgent),da=\"undefined\"!='\n"
     ]
    }
   ],
   "source": [
    "import urllib3 as u3\n",
    "\n",
    "url = \"https://play.google.com/store/apps/details?id=com.mediocre.commute&hl=en\"\n",
    "header = {'User-Agent': 'Mozilla/5.0 (Windows NT 10.0; Win64; x64; rv:49.0) Gecko/20100101 Firefox/49.0'}\n",
    "\n",
    "u3.disable_warnings()\n",
    "http = u3.PoolManager(10, headers=header)\n",
    "req = http.urlopen('GET', url)\n",
    "print(req)\n",
    "page = req.data\n",
    "print(page[1:1000])"
   ]
  },
  {
   "cell_type": "markdown",
   "metadata": {},
   "source": [
    "### Getting HTML File from the URL\n",
    "We used BeautifulSoup library for doing this task."
   ]
  },
  {
   "cell_type": "code",
   "execution_count": 2,
   "metadata": {
    "collapsed": false
   },
   "outputs": [
    {
     "name": "stdout",
     "output_type": "stream",
     "text": [
      "<class 'bs4.BeautifulSoup'>\n",
      "!DOCTYPE html>\n",
      "<html lang=\"en\" xmlns=\"http://www.w3.org/1999/xhtml\" xmlns:og=\"http://ogp.me/ns#\">\n",
      " <head>\n",
      "  <script>\n",
      "   (function(){window.latencyTrackerTimes={clientSideStartMs:Date.now()};})();\n",
      "  </script>\n",
      "  <script>\n",
      "   (function(){function _DumpException(b){window.console.error(b.stack)};var f=this,m=Date.now||function(){return+new Date};function aa(b,d){var a=[\"LOWLIFE_wizbind\"],c=d||f;a[0]in c||!c.execScript||c.execScript(\"var \"+a[0]);for(var e;a.length&&(e=a.shift());)a.length||void 0===b?c[e]?c=c[e]:c=c[e]={}:c[e]=b};function ba(b,d){if(null===d)return!1;if(\"contains\"in b&&1==d.nodeType)return b.contains(d);if(\"compareDocumentPosition\"in b)return b==d||!!(b.compareDocumentPosition(d)&16);for(;d&&b!=d;)d=d.parentNode;return d==b};var v={};function ca(b,d){return function(a){a||(a=window.event);return d.call(b,a)}}function y(b){b=b.target||b.srcElement;!b.getAttribute&&b.parentNode&&(b=b.parentNode);return b}var C=\"undefined\"!=typeof navigator&&/Macintosh/.test(navigator.userAgen\n"
     ]
    }
   ],
   "source": [
    "from bs4 import BeautifulSoup\n",
    "\n",
    "soup = BeautifulSoup(page, \"lxml\")\n",
    "print(type(soup))\n",
    "print(soup.prettify()[1:1000])"
   ]
  },
  {
   "cell_type": "markdown",
   "metadata": {},
   "source": [
    "### Getting App Name\n",
    "According to the element inspector, we find that app name is located at \"div\" in the class \"id-app-title\". We also need to encode the string name to \"utf-8\"."
   ]
  },
  {
   "cell_type": "code",
   "execution_count": 5,
   "metadata": {
    "collapsed": false
   },
   "outputs": [
    {
     "name": "stdout",
     "output_type": "stream",
     "text": [
      "<div class=\"id-app-title\" tabindex=\"0\">Does not Commute</div>\n",
      "Does not Commute\n"
     ]
    }
   ],
   "source": [
    "obj = soup.find(\"div\",\"id-app-title\")\n",
    "name = obj.text\n",
    "print(\"%s\\n%s\" % (obj,name))"
   ]
  },
  {
   "cell_type": "markdown",
   "metadata": {},
   "source": [
    "### Getting App Genre\n",
    "According to the element inspector, we find that app genre is located at \"span\" with attribute \"itemprop=\"genre\"\"."
   ]
  },
  {
   "cell_type": "code",
   "execution_count": 6,
   "metadata": {
    "collapsed": false
   },
   "outputs": [
    {
     "name": "stdout",
     "output_type": "stream",
     "text": [
      "<span itemprop=\"genre\">Racing</span>\n",
      "Racing\n"
     ]
    }
   ],
   "source": [
    "obj = soup.find(\"span\",{\"itemprop\":\"genre\"})\n",
    "genre = obj.text\n",
    "print(\"%s\\n%s\" % (obj,genre))"
   ]
  },
  {
   "cell_type": "markdown",
   "metadata": {},
   "source": [
    "### Getting App Badges\n",
    "According to the element inspector, we find that app badges is located at \"span\" in the class \"badge-title\". Notice that an app may have some badges, so we need an iteration."
   ]
  },
  {
   "cell_type": "code",
   "execution_count": 8,
   "metadata": {
    "collapsed": false
   },
   "outputs": [
    {
     "name": "stdout",
     "output_type": "stream",
     "text": [
      "[<span class=\"badge-title\">Editors' Choice</span>, <span class=\"badge-title\">Top Developer</span>]\n",
      "[\"Editors' Choice\", 'Top Developer']\n"
     ]
    }
   ],
   "source": [
    "obj = soup.find_all(\"span\",{\"class\":\"badge-title\"})\n",
    "print(obj)\n",
    "badges = []\n",
    "for row in obj:\n",
    "    b = row.find(text=True)\n",
    "    badges.append(b)\n",
    "print(badges)"
   ]
  },
  {
   "cell_type": "markdown",
   "metadata": {},
   "source": [
    "### Getting App Rating\n",
    "According to the element inspector, we find that app rating is located at \"span\" in the class \"rating-count\"."
   ]
  },
  {
   "cell_type": "code",
   "execution_count": 9,
   "metadata": {
    "collapsed": false
   },
   "outputs": [
    {
     "name": "stdout",
     "output_type": "stream",
     "text": [
      "<span aria-label=\" 143,071 ratings \" class=\"rating-count\">143,071</span>\n",
      "143,071\n"
     ]
    }
   ],
   "source": [
    "obj = soup.find(\"span\",{\"class\":\"rating-count\"})\n",
    "rating = obj.text\n",
    "print(\"%s\\n%s\" % (obj,rating))"
   ]
  },
  {
   "cell_type": "markdown",
   "metadata": {},
   "source": [
    "### Getting App Score\n",
    "According to the element inspector, we find that app score is located at \"div\" in the class \"score\"."
   ]
  },
  {
   "cell_type": "code",
   "execution_count": 10,
   "metadata": {
    "collapsed": false
   },
   "outputs": [
    {
     "name": "stdout",
     "output_type": "stream",
     "text": [
      "<div aria-label=\" Rated 3.9 stars out of five stars \" class=\"score\">3.9</div>\n",
      "3.9\n"
     ]
    }
   ],
   "source": [
    "obj = soup.find(\"div\",{\"class\":\"score\"})\n",
    "score = obj.text\n",
    "print(\"%s\\n%s\" % (obj,score))"
   ]
  },
  {
   "cell_type": "markdown",
   "metadata": {},
   "source": [
    "### Getting App Developer Name\n",
    "According to the element inspector, we find that app developer name is located at \"span\" with attribute \"itemprop=\"name\"\"."
   ]
  },
  {
   "cell_type": "code",
   "execution_count": 11,
   "metadata": {
    "collapsed": false
   },
   "outputs": [
    {
     "name": "stdout",
     "output_type": "stream",
     "text": [
      "<span itemprop=\"name\">Mediocre</span>\n",
      "Mediocre\n"
     ]
    }
   ],
   "source": [
    "obj = soup.find(\"span\",{\"itemprop\":\"name\"})\n",
    "developer = obj.text\n",
    "print(\"%s\\n%s\" % (obj,developer))"
   ]
  },
  {
   "cell_type": "markdown",
   "metadata": {},
   "source": [
    "### Getting App Version\n",
    "According to the element inspector, we find that app version is located at \"div\" with attribute \"itemprop=\"softwareVersion\"\"."
   ]
  },
  {
   "cell_type": "code",
   "execution_count": 12,
   "metadata": {
    "collapsed": false
   },
   "outputs": [
    {
     "name": "stdout",
     "output_type": "stream",
     "text": [
      "<div class=\"content\" itemprop=\"softwareVersion\"> 1.4.2  </div>\n",
      " 1.4.2  \n"
     ]
    }
   ],
   "source": [
    "obj = soup.find(\"div\",{\"itemprop\":\"softwareVersion\"})\n",
    "version = obj.text\n",
    "print(\"%s\\n%s\" % (obj,version))"
   ]
  },
  {
   "cell_type": "markdown",
   "metadata": {},
   "source": [
    "### Getting App Content Rating\n",
    "According to the element inspector, we find that app content rating is located at \"div\" with attribute \"itemprop=\"contentRating\"\"."
   ]
  },
  {
   "cell_type": "code",
   "execution_count": 13,
   "metadata": {
    "collapsed": false
   },
   "outputs": [
    {
     "name": "stdout",
     "output_type": "stream",
     "text": [
      "<div class=\"content\" itemprop=\"contentRating\">Rated for 3+</div>\n",
      "Rated for 3+\n"
     ]
    }
   ],
   "source": [
    "obj = soup.find(\"div\",{\"itemprop\":\"contentRating\"})\n",
    "contentRating = obj.text\n",
    "print(\"%s\\n%s\" % (obj,contentRating))"
   ]
  },
  {
   "cell_type": "markdown",
   "metadata": {},
   "source": [
    "### Getting App Download Number\n",
    "According to the element inspector, we find that app download number is located at \"div\" with attribute \"itemprop=\"numDownloads\"\"."
   ]
  },
  {
   "cell_type": "code",
   "execution_count": 14,
   "metadata": {
    "collapsed": false
   },
   "outputs": [
    {
     "name": "stdout",
     "output_type": "stream",
     "text": [
      "<div class=\"content\" itemprop=\"numDownloads\">  5,000,000 - 10,000,000  </div>\n",
      "  5,000,000 - 10,000,000  \n"
     ]
    }
   ],
   "source": [
    "obj = soup.find(\"div\",{\"itemprop\":\"numDownloads\"})\n",
    "downloadNumber = obj.text\n",
    "print(\"%s\\n%s\" % (obj,downloadNumber))"
   ]
  },
  {
   "cell_type": "markdown",
   "metadata": {},
   "source": [
    "### Getting App Description\n",
    "According to the element inspector, we find that app description is located at \"div\" with attribute \"jsname\":\"C4s9Ed\"\"."
   ]
  },
  {
   "cell_type": "code",
   "execution_count": 15,
   "metadata": {
    "collapsed": false
   },
   "outputs": [
    {
     "name": "stdout",
     "output_type": "stream",
     "text": [
      "A strategic driving game from the award-winning maker’s of Smash Hit. Does not Commute is a temporal paradox in which you have no one to blame but yourself. What starts out as a relaxing commute in a small town of the 1970's quickly devolves into traffic chaos with hot dog trucks, sports cars, school buses and dozens of other vehicles. You drive them all. Plan ahead. Don't be late.In this small town, discover the characters and their secrets – what world-changing experiment is inventive dentist Dr Charles Schneider hiding? Will Mr Baker quit his job in advertising? What is that strange mask on Mrs Griffin's face? Will Mr Mayfield’s peculiar obsession with Yorkshire Terriers take over his life?Does Not Commute is playable at no cost and free from ads.  An optional premium upgrade is available through a one-time in-app purchase that will enable the ability to continue from checkpoints.\n"
     ]
    }
   ],
   "source": [
    "obj = soup.find(\"div\",{\"jsname\":\"C4s9Ed\"})\n",
    "description = obj.text\n",
    "print(description)"
   ]
  },
  {
   "cell_type": "markdown",
   "metadata": {},
   "source": [
    "### Getting App Screenshots Link\n",
    "According to the element inspector, we find that app screenshots link is located at \"div\" in the class \"thumbnails\". Notice that an app may have some screenshots, so we need an iteration.\n",
    "Unfortunately, all links have \"//\" at the beginning, so we need to replace it to \"http://\"."
   ]
  },
  {
   "cell_type": "code",
   "execution_count": 39,
   "metadata": {
    "collapsed": false,
    "scrolled": false
   },
   "outputs": [
    {
     "data": {
      "text/plain": [
       "['http://i.ytimg.com/vi/oXx6khzN6I0/hqdefault.jpg',\n",
       " 'http://lh3.googleusercontent.com/jAP_Q4Q5Lwf7RqI__8NtxWYq9gfvuW0ge8swDT-5xNtZ8Z1cIHuJqBHza_ZrrNKVSA=h310',\n",
       " 'http://lh3.googleusercontent.com/pbPDXPfitMX8NtSpXBMs12C-TN0Mqj6rzo6jmkAvhfkK1QhdKBCUbbCK0qKm86iciQ=h310',\n",
       " 'http://lh3.googleusercontent.com/3CeZjRQN_Yc7anf6jelQeFN7iKTnaO2FXMPNDQDI8bmr6uwa7qYuXzQwfh29VfI_4Q=h310',\n",
       " 'http://lh3.googleusercontent.com/5S7_Crw0V_i69uVC_C14t_gGeDioiiQAVYIjVp7NkkAjwJgMaw_YWridWYSN7sKbDZbX=h310',\n",
       " 'http://lh3.googleusercontent.com/y6a96-8Qd9vdJPcbGJUhDYzJxq-TZIlxj-sQl0tuwgXRC_y-gTP-mH0TphttvHCFFw=h310',\n",
       " 'http://lh3.googleusercontent.com/PuD4dijjDZ0YLxX0zBIGGgSUAkEtSuLRuNQhFK1bZ0b3Qivj1Ra2wnQ5C5BTS1AHC2w=h310',\n",
       " 'http://lh3.googleusercontent.com/6cm2s-WsyXa6usJpshzZllxT_nu5-phSL4Eiwv58AjNaahVun7_ZpMl6hUOotdDsp3o=h310',\n",
       " 'http://lh3.googleusercontent.com/g9I7hwhvZXA5X5NOdvPyf4NcXAIUp2VzksBg7zCNCSSnVdgeHn5iAr_hGNFixxeAqj-q=h310',\n",
       " 'http://lh3.googleusercontent.com/3gokSAjUl2if8Q_0YmW-bxEflPmdhSi7XRlifJZR4CPkNyjcE--WvXGcCNU7selGjA=h310',\n",
       " 'http://lh3.googleusercontent.com/wuWw6tG_eAkevKkHDVawkSlUIRmKnneirdeGfHUQKtTQMP0Lb1yov1ZKZ6WUlmfH0Tg=h310',\n",
       " 'http://lh3.googleusercontent.com/07w-qdoIFq5dcDz5-efXvP3gjyCg-TyxzB1ffDAd6vo7_xVtKoC6usBOe3UIWCoqIJo=h310',\n",
       " 'http://lh3.googleusercontent.com/P0HntCfiyVCJLweCls7otdJxHf7y70M9EJdD3U2pmFJ1ieN63eKxnV47ShIBw6d6KA=h310',\n",
       " 'http://lh3.googleusercontent.com/97gNyuB_G0ijvRMjW8kmC1tkDN6J4adP0RROraxXTjsq4P0ZJdoH2Sis5VqR18hoogU=h310',\n",
       " 'http://lh3.googleusercontent.com/pXOr18U3a4plPlvGrXyisAJCPGVtW3ipHrv0tMf-IrplUoUr4lmUcvfVfgXVU8rH_PM=h310',\n",
       " 'http://lh3.googleusercontent.com/naryTNHzlCVs4tGS0tJsfXNGqmM4a_DH8qipIj0uZQgPIabGCafghOTWWCL4xjowJu8=h310']"
      ]
     },
     "execution_count": 39,
     "metadata": {},
     "output_type": "execute_result"
    }
   ],
   "source": [
    "obj = soup.find(\"div\",{\"class\":\"thumbnails\"})\n",
    "#print(obj)\n",
    "screenshotsLink = []\n",
    "\n",
    "for row in obj.find_all(\"img\"):\n",
    "    b = row[\"src\"].replace('//','http://')\n",
    "    screenshotsLink.append(b)\n",
    "    \n",
    "[link for link in screenshotsLink]"
   ]
  },
  {
   "cell_type": "markdown",
   "metadata": {},
   "source": [
    "### Saving App Screenshots\n",
    "There are two main points when we want to save those screenshots: download folder and file name. For example, i'll set the folder to \"DoesNotCommute\" and the file name to \"DoesNotCommuteX.png\" (X is an index number).\n",
    "\n",
    "First, we need to check whether folder \"DoesNotCommute\" is available or not in current folder (using os.path.exists(folder)). If there isn't one, we create that folder.\n",
    "\n",
    "Second, we iterate all the screenshots link to make a request to its server and open its URL.\n",
    "\n",
    "At last, we save the opened URL as image in folder \"DoesNotCommute\"."
   ]
  },
  {
   "cell_type": "code",
   "execution_count": 43,
   "metadata": {
    "collapsed": false
   },
   "outputs": [],
   "source": [
    "import os\n",
    "\n",
    "folder = \"DoesNotCommute\"\n",
    "name = \"DoesNotCommute\"\n",
    "index = 1\n",
    "imgFormat = \".png\"\n",
    "\n",
    "if not os.path.exists(folder):\n",
    "    os.makedirs(folder)\n",
    "    \n",
    "for link in screenshotsLink:\n",
    "    req = http.urlopen('GET',link)\n",
    "    with open(os.path.join(folder, name+str(index)+imgFormat),'wb') as img:\n",
    "        img.write(req.data)\n",
    "    index += 1"
   ]
  },
  {
   "cell_type": "markdown",
   "metadata": {},
   "source": [
    "### Summary:"
   ]
  },
  {
   "cell_type": "code",
   "execution_count": 41,
   "metadata": {
    "collapsed": false
   },
   "outputs": [
    {
     "name": "stdout",
     "output_type": "stream",
     "text": [
      "Name\t\t: DoesNotCommute\n",
      "Genre\t\t: Racing\n",
      "Badges\t\t:\n",
      "\t\t  Editors' Choice\n",
      "\t\t  Top Developer\n",
      "Rating\t\t: 143,071\n",
      "Score\t\t: 3.9\n",
      "Developer name\t: Mediocre\n",
      "Version\t\t:  1.4.2  \n",
      "Content rating\t: Rated for 3+\n",
      "Download number\t:   5,000,000 - 10,000,000  \n",
      "Description\t: \n",
      "A strategic driving game from the award-winning maker’s of Smash Hit. Does not Commute is a temporal paradox in which you have no one to blame but yourself. What starts out as a relaxing commute in a small town of the 1970's quickly devolves into traffic chaos with hot dog trucks, sports cars, school buses and dozens of other vehicles. You drive them all. Plan ahead. Don't be late.In this small town, discover the characters and their secrets – what world-changing experiment is inventive dentist Dr Charles Schneider hiding? Will Mr Baker quit his job in advertising? What is that strange mask on Mrs Griffin's face? Will Mr Mayfield’s peculiar obsession with Yorkshire Terriers take over his life?Does Not Commute is playable at no cost and free from ads.  An optional premium upgrade is available through a one-time in-app purchase that will enable the ability to continue from checkpoints.\n",
      "Screenshots Link:\n"
     ]
    },
    {
     "data": {
      "text/plain": [
       "['http://i.ytimg.com/vi/oXx6khzN6I0/hqdefault.jpg',\n",
       " 'http://lh3.googleusercontent.com/jAP_Q4Q5Lwf7RqI__8NtxWYq9gfvuW0ge8swDT-5xNtZ8Z1cIHuJqBHza_ZrrNKVSA=h310',\n",
       " 'http://lh3.googleusercontent.com/pbPDXPfitMX8NtSpXBMs12C-TN0Mqj6rzo6jmkAvhfkK1QhdKBCUbbCK0qKm86iciQ=h310',\n",
       " 'http://lh3.googleusercontent.com/3CeZjRQN_Yc7anf6jelQeFN7iKTnaO2FXMPNDQDI8bmr6uwa7qYuXzQwfh29VfI_4Q=h310',\n",
       " 'http://lh3.googleusercontent.com/5S7_Crw0V_i69uVC_C14t_gGeDioiiQAVYIjVp7NkkAjwJgMaw_YWridWYSN7sKbDZbX=h310',\n",
       " 'http://lh3.googleusercontent.com/y6a96-8Qd9vdJPcbGJUhDYzJxq-TZIlxj-sQl0tuwgXRC_y-gTP-mH0TphttvHCFFw=h310',\n",
       " 'http://lh3.googleusercontent.com/PuD4dijjDZ0YLxX0zBIGGgSUAkEtSuLRuNQhFK1bZ0b3Qivj1Ra2wnQ5C5BTS1AHC2w=h310',\n",
       " 'http://lh3.googleusercontent.com/6cm2s-WsyXa6usJpshzZllxT_nu5-phSL4Eiwv58AjNaahVun7_ZpMl6hUOotdDsp3o=h310',\n",
       " 'http://lh3.googleusercontent.com/g9I7hwhvZXA5X5NOdvPyf4NcXAIUp2VzksBg7zCNCSSnVdgeHn5iAr_hGNFixxeAqj-q=h310',\n",
       " 'http://lh3.googleusercontent.com/3gokSAjUl2if8Q_0YmW-bxEflPmdhSi7XRlifJZR4CPkNyjcE--WvXGcCNU7selGjA=h310',\n",
       " 'http://lh3.googleusercontent.com/wuWw6tG_eAkevKkHDVawkSlUIRmKnneirdeGfHUQKtTQMP0Lb1yov1ZKZ6WUlmfH0Tg=h310',\n",
       " 'http://lh3.googleusercontent.com/07w-qdoIFq5dcDz5-efXvP3gjyCg-TyxzB1ffDAd6vo7_xVtKoC6usBOe3UIWCoqIJo=h310',\n",
       " 'http://lh3.googleusercontent.com/P0HntCfiyVCJLweCls7otdJxHf7y70M9EJdD3U2pmFJ1ieN63eKxnV47ShIBw6d6KA=h310',\n",
       " 'http://lh3.googleusercontent.com/97gNyuB_G0ijvRMjW8kmC1tkDN6J4adP0RROraxXTjsq4P0ZJdoH2Sis5VqR18hoogU=h310',\n",
       " 'http://lh3.googleusercontent.com/pXOr18U3a4plPlvGrXyisAJCPGVtW3ipHrv0tMf-IrplUoUr4lmUcvfVfgXVU8rH_PM=h310',\n",
       " 'http://lh3.googleusercontent.com/naryTNHzlCVs4tGS0tJsfXNGqmM4a_DH8qipIj0uZQgPIabGCafghOTWWCL4xjowJu8=h310']"
      ]
     },
     "execution_count": 41,
     "metadata": {},
     "output_type": "execute_result"
    }
   ],
   "source": [
    "print(\"Name\\t\\t: %s\" % name)\n",
    "print(\"Genre\\t\\t: %s\" % genre)\n",
    "print(\"Badges\\t\\t:\")\n",
    "for b in badges:\n",
    "    print(\"\\t\\t  %s\" % b)\n",
    "print(\"Rating\\t\\t: %s\" % rating)\n",
    "print(\"Score\\t\\t: %s\" % score)\n",
    "print(\"Developer name\\t: %s\" % developer)\n",
    "print(\"Version\\t\\t: %s\" % version)\n",
    "print(\"Content rating\\t: %s\" % contentRating)\n",
    "print(\"Download number\\t: %s\" % downloadNumber)\n",
    "print(\"Description\\t: \\n%s\" % description)\n",
    "print(\"Screenshots Link:\")\n",
    "[s for s in screenshotsLink]"
   ]
  },
  {
   "cell_type": "code",
   "execution_count": null,
   "metadata": {
    "collapsed": true
   },
   "outputs": [],
   "source": []
  }
 ],
 "metadata": {
  "anaconda-cloud": {},
  "kernelspec": {
   "display_name": "Python [conda root]",
   "language": "python",
   "name": "conda-root-py"
  },
  "language_info": {
   "codemirror_mode": {
    "name": "ipython",
    "version": 3
   },
   "file_extension": ".py",
   "mimetype": "text/x-python",
   "name": "python",
   "nbconvert_exporter": "python",
   "pygments_lexer": "ipython3",
   "version": "3.5.2"
  }
 },
 "nbformat": 4,
 "nbformat_minor": 0
}
