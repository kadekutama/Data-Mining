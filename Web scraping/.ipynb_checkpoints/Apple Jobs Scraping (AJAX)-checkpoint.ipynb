{
 "cells": [
  {
   "cell_type": "markdown",
   "metadata": {},
   "source": [
    "# Apple Jobs Scraping\n",
    "\n",
    "### Kadek Dwi Budi Utama\n",
    "### https://github.com/kadekutama\n",
    "\n",
    "2016"
   ]
  },
  {
   "cell_type": "markdown",
   "metadata": {},
   "source": [
    "### Apple Jobs Website Characteristic\n",
    "Apple Jobs website was built with AJAX. Scraping AJAX pages involves more than just manually reviewing the HTML of the page you want to scrape. That's because an AJAX page uses javascript to make a server request for data that is then dynamically rendered into the current page.\n",
    "\n",
    "It follows then that to scrape the data being rendered you have to determine the format and endpoint of the request being made so that you can replicate the request, and the format of the response so that you can parse it.\n",
    "\n",
    "The AJAX page that I'll show how to scrape in this post is the jobs page for Apple.com, https://jobs.apple.com/us/search/."
   ]
  },
  {
   "cell_type": "markdown",
   "metadata": {},
   "source": [
    "### Finding the AJAX Parameter\n",
    "Open the link above in a web browser. Then open the element inspector which is built in with the browser. Move up your cursor to network, then click on \"JS\" and \"XHR\". To show the AJAX request, let's click on \"next page\". It should be showing up as \"search-result\" with \"POST\" method. Copy request URL in the headers tab. This URL is the one we'll used to scrape the data."
   ]
  },
  {
   "cell_type": "code",
   "execution_count": 60,
   "metadata": {
    "collapsed": false
   },
   "outputs": [],
   "source": [
    "search_request = {\n",
    "            \"searchString\":\"\",\n",
    "            \"jobType\":0,\n",
    "            \"sortBy\":\"req_open_dt\",\n",
    "            \"sortOrder\":\"1\",\n",
    "            \"language\":None,\n",
    "            \"autocomplete\":None,\n",
    "            \"delta\":0,\n",
    "            \"numberOfResults\":0,\n",
    "            \"pageNumber\":None,\n",
    "            \"internalExternalIndicator\":0,\n",
    "            \"lastRunDate\":0,\n",
    "            \"countryLang\":None,\n",
    "            \"filters\":{\n",
    "                \"locations\":{\n",
    "                    \"location\":[{\n",
    "                            \"type\":0,\n",
    "                            \"code\":\"USA\",\n",
    "                            \"countryCode\":None,\n",
    "                            \"stateCode\":None,\n",
    "                            \"cityCode\":None,\n",
    "                            \"cityName\":None\n",
    "                    }]\n",
    "                },\n",
    "                \"languageSkills\":None,\n",
    "                \"jobFunctions\":None,\n",
    "                \"retailJobSpecs\":None,\n",
    "                \"businessLine\":None,\n",
    "                \"hiringManagerId\":None},\n",
    "            \"requisitionIds\":None\n",
    "        }"
   ]
  },
  {
   "cell_type": "code",
   "execution_count": 61,
   "metadata": {
    "collapsed": false
   },
   "outputs": [],
   "source": [
    "jobs = []\n",
    "pageno = 0\n",
    "search_request['pageNumber'] = pageno"
   ]
  },
  {
   "cell_type": "markdown",
   "metadata": {},
   "source": [
    "### Finding the AJAX Request\n",
    "Open the element inspector which is built in with the browser. Move up your cursor to network, then click on \"JS\" and \"XHR\". To show the AJAX request, let's click on \"next page\". It should be showing up as \"search-result\" with \"POST\" method. Copy request URL in the headers tab. This URL is the one we'll used to scrape the data.\n",
    "\n",
    "We also need to pay attention to the request headers. We'll used this header when we want to make a request to the web server. This will avoid of getting blocked by Apple."
   ]
  },
  {
   "cell_type": "markdown",
   "metadata": {},
   "source": [
    "### Finding the AJAX Response"
   ]
  },
  {
   "cell_type": "code",
   "execution_count": 62,
   "metadata": {
    "collapsed": false
   },
   "outputs": [
    {
     "name": "stdout",
     "output_type": "stream",
     "text": [
      "<requisition><jobfunction>Retail</jobfunction><jobid>USABL</jobid><jobtypecategory>Retail</jobtypecategory><location>Various</location><retailpostingdate>Oct. 12, 2016</retailpostingdate><retailpostingtitle>US-Business Leader</retailpostingtitle></requisition>\n",
      "<requisition><jobfunction>Retail</jobfunction><jobid>USABM</jobid><jobtypecategory>Retail</jobtypecategory><location>Various</location><retailpostingdate>Oct. 12, 2016</retailpostingdate><retailpostingtitle>US-Business Manager</retailpostingtitle></requisition>\n",
      "<requisition><jobfunction>Retail</jobfunction><jobid>USABS</jobid><jobtypecategory>Retail</jobtypecategory><location>Various</location><retailpostingdate>Oct. 12, 2016</retailpostingdate><retailpostingtitle>US-Business Specialist</retailpostingtitle></requisition>\n",
      "<requisition><jobfunction>Retail</jobfunction><jobid>USALP</jobid><jobtypecategory>Retail</jobtypecategory><location>Various</location><retailpostingdate>Oct. 12, 2016</retailpostingdate><retailpostingtitle>US-Apple Store Leader Program</retailpostingtitle></requisition>\n",
      "<requisition><jobfunction>Retail</jobfunction><jobid>USACR</jobid><jobtypecategory>Retail</jobtypecategory><location>Various</location><retailpostingdate>Oct. 12, 2016</retailpostingdate><retailpostingtitle>US-Creative</retailpostingtitle></requisition>\n",
      "<requisition><jobfunction>Retail</jobfunction><jobid>USAEX</jobid><jobtypecategory>Retail</jobtypecategory><location>Various</location><retailpostingdate>Oct. 12, 2016</retailpostingdate><retailpostingtitle>US-Expert</retailpostingtitle></requisition>\n",
      "<requisition><jobfunction>Retail</jobfunction><jobid>USAGN</jobid><jobtypecategory>Retail</jobtypecategory><location>Various</location><retailpostingdate>Oct. 12, 2016</retailpostingdate><retailpostingtitle>US-Genius</retailpostingtitle></requisition>\n",
      "<requisition><jobfunction>Retail</jobfunction><jobid>USAIS</jobid><jobtypecategory>Retail</jobtypecategory><location>Various</location><retailpostingdate>Oct. 12, 2016</retailpostingdate><retailpostingtitle>US-Inventory Specialist</retailpostingtitle></requisition>\n",
      "<requisition><jobfunction>Retail</jobfunction><jobid>USAMN</jobid><jobtypecategory>Retail</jobtypecategory><location>Various</location><retailpostingdate>Oct. 12, 2016</retailpostingdate><retailpostingtitle>US-Manager</retailpostingtitle></requisition>\n",
      "<requisition><jobfunction>Retail</jobfunction><jobid>USAML</jobid><jobtypecategory>Retail</jobtypecategory><location>Various</location><retailpostingdate>Oct. 12, 2016</retailpostingdate><retailpostingtitle>US-Market Leader</retailpostingtitle></requisition>\n",
      "<requisition><jobfunction>Retail</jobfunction><jobid>USASL</jobid><jobtypecategory>Retail</jobtypecategory><location>Various</location><retailpostingdate>Oct. 12, 2016</retailpostingdate><retailpostingtitle>US-Store Leader</retailpostingtitle></requisition>\n",
      "<requisition><jobfunction>Retail</jobfunction><jobid>USASE</jobid><jobtypecategory>Retail</jobtypecategory><location>Various</location><retailpostingdate>Oct. 12, 2016</retailpostingdate><retailpostingtitle>US-Solution Engineer</retailpostingtitle></requisition>\n",
      "<requisition><jobfunction>Retail</jobfunction><jobid>USASP</jobid><jobtypecategory>Retail</jobtypecategory><location>Various</location><retailpostingdate>Oct. 12, 2016</retailpostingdate><retailpostingtitle>US-Specialist</retailpostingtitle></requisition>\n",
      "<requisition><jobfunction>Retail</jobfunction><jobid>USSS</jobid><jobtypecategory>Retail</jobtypecategory><location>Various</location><retailpostingdate>Oct. 12, 2016</retailpostingdate><retailpostingtitle>US-Service Specialist</retailpostingtitle></requisition>\n",
      "<requisition><jobfunction>Retail</jobfunction><jobid>USSM</jobid><jobtypecategory>Retail</jobtypecategory><location>Various</location><retailpostingdate>Oct. 12, 2016</retailpostingdate><retailpostingtitle>US-Senior Manager</retailpostingtitle></requisition>\n",
      "<requisition><jobfunction>Sales</jobfunction><jobid>52441922</jobid><jobtypecategory>requisition</jobtypecategory><location>Grand Rapids</location><opendate>Oct. 12, 2016</opendate><postingtitle>Part Time Reseller Specialist - Comstock Park</postingtitle></requisition>\n",
      "<requisition><jobfunction>Software Engineering</jobfunction><jobid>44922210</jobid><jobtypecategory>requisition</jobtypecategory><location>New York City</location><opendate>Oct. 12, 2016</opendate><postingtitle>iTunes Store Commerce Engineer  - New York</postingtitle></requisition>\n",
      "<requisition><jobfunction>Hardware Engineering</jobfunction><jobid>52599742</jobid><jobtypecategory>requisition</jobtypecategory><location>Santa Clara Valley</location><opendate>Oct. 12, 2016</opendate><postingtitle>CAD Network Engineer</postingtitle></requisition>\n",
      "<requisition><jobfunction>Design</jobfunction><jobid>50148901</jobid><jobtypecategory>requisition</jobtypecategory><location>Santa Clara Valley</location><opendate>Oct. 12, 2016</opendate><postingtitle>Integrated Visual Designer %u00BB Content + Marketing Design, Apple Media</postingtitle></requisition>\n",
      "<requisition><jobfunction>Design</jobfunction><jobid>48400083</jobid><jobtypecategory>requisition</jobtypecategory><location>Santa Clara Valley</location><opendate>Oct. 12, 2016</opendate><postingtitle>Integrated Visual Designer %u00BB Content + Marketing Design, Apple Media</postingtitle></requisition>\n"
     ]
    }
   ],
   "source": [
    "import json\n",
    "import requests\n",
    "from bs4 import BeautifulSoup\n",
    "\n",
    "while pageno < 1:\n",
    "    payload = {\n",
    "        \"searchRequestJson\" : json.dumps(search_request),\n",
    "        \"clientOffset\" : \"420\"\n",
    "    }\n",
    "    \n",
    "    req = requests.post(\n",
    "        url = \"https://jobs.apple.com/us/search/search-result\",\n",
    "        data = payload,\n",
    "        headers = {\n",
    "            \"Host\": \"jobs.apple.com\",\n",
    "            'User-Agent': 'Mozilla/5.0 (Windows NT 10.0; Win64; x64; rv:49.0) Gecko/20100101 Firefox/49.0',\n",
    "            \"Accept\": \"text/javascript, text/html, application/xml, text/xml, */*\",\n",
    "            \"Accept-Language\": \"en-US,en;q=0.5\",\n",
    "            \"Accept-Encoding\": \"gzip, deflate, br\",\n",
    "            \"X-Requested-With\": \"XMLHttpRequest\",\n",
    "            \"X-Prototype-Version\": \"1.7\",\n",
    "            \"Content-Type\": \"application/x-www-form-urlencoded; charset=UTF-8\",\n",
    "            \"Referer\": \"https://jobs.apple.com/us/search/\",\n",
    "            \"Content-Length\": \"465\",\n",
    "            \"Cookie\": \"s_fid=2C06516389C48EF9-31315F14853B6EB1; s_vnum_n2_us=4|1,35|1; dssf=1; JSESSIONID=j5-ieBEJzsFE2oVcKuyvuket.node36239; NSC_MCWT_kpct-ofx_443=ffffffff122aaa4545525d5f4f58455e445a4a42aa72; s_cc=true; s_pv=apple%20-%20jobs%20at%20apple-search%20-%20keywords%20(us); s_ppv=Apple%2520-%2520Jobs%2520at%2520Apple%2520%2528US%2529%2C100%2C31%2C1766%2C100%3A%3E%7C200%3A%3E%7C300%3A%3E%7C800%3A1%7C900%3A1%7C1000%3A1%7C1100%3A1%7C1200%3A1%7C1300%3A1%7C1400%3A2%7C1500%3A2%7C1600%3A1%7C1700%3A1; s_orientation=%5B%5BB%5D%5D; s_ria=Flash%2023%7C; s_pathLength=jobs%3D7%2C; s_invisit_n2_us=35; s_sq=appleglobal%2Cappleusjobs%3D%2526pid%253Dapple%252520-%252520jobs%252520at%252520apple-search%252520-%252520keywords%252520(us)%2526pidt%253D1%2526oid%253Djavascript%25253ApageNext()_2%2526oidt%253D1%2526ot%253DA%2526oi%253D1; RecentJobs=%7B%22requisitions%22%3A%5B%7B%22jobReqId%22%3A%22USASL%22%2C%22jobReqType%22%3A%22PT%22%2C%22postingTitle%22%3A%22US-Store%20Leader%22%7D%5D%7D; s_orientationHeight=1538; ccl=PnPBlffODQGWBo1Lhef32w==; geo=ID; as_dc_pod=rno_88-32; as_dc=nwk\",\n",
    "            \"Connection\": \"keep-alive\"\n",
    "        }\n",
    "    )\n",
    "    \n",
    "    soup = BeautifulSoup(req.text, \"lxml\")\n",
    "    \n",
    "    for req in soup.find_all(\"requisition\"):\n",
    "        job = {}\n",
    "        print(req)\n",
    "        job['jobid'] = req.jobid.text\n",
    "        job['title'] = req.postingtitle and req.postingtitle.text or req.retailpostingtitle.text\n",
    "        job['location'] = req.location.text\n",
    "        jobs.append(job)\n",
    "        \n",
    "    pageno += 1\n",
    "    search_request['pageNumber'] = pageno"
   ]
  },
  {
   "cell_type": "markdown",
   "metadata": {},
   "source": [
    "### Show the Scraped Data"
   ]
  },
  {
   "cell_type": "code",
   "execution_count": 63,
   "metadata": {
    "collapsed": false
   },
   "outputs": [
    {
     "data": {
      "text/plain": [
       "[{'jobid': 'USABL', 'location': 'Various', 'title': 'US-Business Leader'},\n",
       " {'jobid': 'USABM', 'location': 'Various', 'title': 'US-Business Manager'},\n",
       " {'jobid': 'USABS', 'location': 'Various', 'title': 'US-Business Specialist'},\n",
       " {'jobid': 'USALP',\n",
       "  'location': 'Various',\n",
       "  'title': 'US-Apple Store Leader Program'},\n",
       " {'jobid': 'USACR', 'location': 'Various', 'title': 'US-Creative'},\n",
       " {'jobid': 'USAEX', 'location': 'Various', 'title': 'US-Expert'},\n",
       " {'jobid': 'USAGN', 'location': 'Various', 'title': 'US-Genius'},\n",
       " {'jobid': 'USAIS', 'location': 'Various', 'title': 'US-Inventory Specialist'},\n",
       " {'jobid': 'USAMN', 'location': 'Various', 'title': 'US-Manager'},\n",
       " {'jobid': 'USAML', 'location': 'Various', 'title': 'US-Market Leader'},\n",
       " {'jobid': 'USASL', 'location': 'Various', 'title': 'US-Store Leader'},\n",
       " {'jobid': 'USASE', 'location': 'Various', 'title': 'US-Solution Engineer'},\n",
       " {'jobid': 'USASP', 'location': 'Various', 'title': 'US-Specialist'},\n",
       " {'jobid': 'USSS', 'location': 'Various', 'title': 'US-Service Specialist'},\n",
       " {'jobid': 'USSM', 'location': 'Various', 'title': 'US-Senior Manager'},\n",
       " {'jobid': '52441922',\n",
       "  'location': 'Grand Rapids',\n",
       "  'title': 'Part Time Reseller Specialist - Comstock Park'},\n",
       " {'jobid': '44922210',\n",
       "  'location': 'New York City',\n",
       "  'title': 'iTunes Store Commerce Engineer  - New York'},\n",
       " {'jobid': '52599742',\n",
       "  'location': 'Santa Clara Valley',\n",
       "  'title': 'CAD Network Engineer'},\n",
       " {'jobid': '50148901',\n",
       "  'location': 'Santa Clara Valley',\n",
       "  'title': 'Integrated Visual Designer %u00BB Content + Marketing Design, Apple Media'},\n",
       " {'jobid': '48400083',\n",
       "  'location': 'Santa Clara Valley',\n",
       "  'title': 'Integrated Visual Designer %u00BB Content + Marketing Design, Apple Media'}]"
      ]
     },
     "execution_count": 63,
     "metadata": {},
     "output_type": "execute_result"
    }
   ],
   "source": [
    "[job for job in jobs]"
   ]
  },
  {
   "cell_type": "code",
   "execution_count": null,
   "metadata": {
    "collapsed": true
   },
   "outputs": [],
   "source": []
  }
 ],
 "metadata": {
  "anaconda-cloud": {},
  "kernelspec": {
   "display_name": "Python [conda root]",
   "language": "python",
   "name": "conda-root-py"
  },
  "language_info": {
   "codemirror_mode": {
    "name": "ipython",
    "version": 3
   },
   "file_extension": ".py",
   "mimetype": "text/x-python",
   "name": "python",
   "nbconvert_exporter": "python",
   "pygments_lexer": "ipython3",
   "version": "3.5.2"
  }
 },
 "nbformat": 4,
 "nbformat_minor": 1
}
