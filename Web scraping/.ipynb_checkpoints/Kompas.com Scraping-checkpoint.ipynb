{
 "cells": [
  {
   "cell_type": "markdown",
   "metadata": {},
   "source": [
    "# Kompas.com Scraping\n",
    "\n",
    "### Kadek Dwi Budi Utama\n",
    "### https://github.com/kadekutama\n",
    "\n",
    "2016"
   ]
  },
  {
   "cell_type": "markdown",
   "metadata": {},
   "source": [
    "### Inisialisasi URL dan Mendapatkan Akses\n",
    "Untuk menghindari pemblokiran dari Wikipedia, kita menggunakan user agent browser Mozilla.\n",
    "\n",
    "Kita menggunakan library urllib3 untuk melakukan request dan mengakses Wikipedia."
   ]
  },
  {
   "cell_type": "code",
   "execution_count": 77,
   "metadata": {
    "collapsed": false
   },
   "outputs": [
    {
     "name": "stdout",
     "output_type": "stream",
     "text": [
      "<urllib3.response.HTTPResponse object at 0x00000286C179A6D8>\n",
      "b'!-- 52.152 -->\\n<!DOCTYPE html>\\n<html lang=\"en\">\\n<head>\\n<script type=\"text/javascript\">\\n    var base_url = \\'http://tekno.kompas.com/\\';\\n    var crn_url  = \\'aHR0cDovL3Rla25vLmtvbXBhcy5jb20v\\';\\n    var limit_personalisasi = 5;\\n</script>\\n\\n<!-- Meta, title, favicons, etc. -->\\n<meta charset=\"utf-8\">\\n<meta http-equiv=\"X-UA-Compatible\" content=\"IE=edge,chrome=1\">\\n<meta name=\"viewport\" content=\"width=device-width\">\\n<meta name=\"description\" content=\"Kompas Tekno\">\\n<meta name=\"keywords\" content=\"artikel komputer, artikel teknologi, belajar komputer, berita indonesia, berita teknologi, berita terbaru, broadband internet, camera review, camera reviews, computer, computer building tips, computer buying tips, computer help, computer help desk, computer maintenance tips, computer parts, computer performance tips, computer repair, computer repair tips, computer safety tips, computer science, computer security tips, computer tech tips, computer tip of the day, computer tips, computer tips and tricks, com'\n"
     ]
    }
   ],
   "source": [
    "import urllib3 as u3\n",
    "\n",
    "url = \"http://tekno.kompas.com\"\n",
    "header = {'User-Agent': 'Mozilla/5.0 (Windows NT 10.0; Win64; x64; rv:49.0) Gecko/20100101 Firefox/49.0'}\n",
    "\n",
    "u3.disable_warnings()\n",
    "http = u3.PoolManager(10, headers=header)\n",
    "req = http.urlopen('GET', url)\n",
    "print(req)\n",
    "page = req.data\n",
    "print(page[1:1000])"
   ]
  },
  {
   "cell_type": "markdown",
   "metadata": {},
   "source": [
    "### Mendapatkan HTML\n",
    "Kita menggunakan library BeautifulSoup untuk mempermudah proses scraping. String HTML yang didapatkan dikonversikan menjadi objek BeautifulSoup menggunakan lxml parser"
   ]
  },
  {
   "cell_type": "code",
   "execution_count": 78,
   "metadata": {
    "collapsed": false
   },
   "outputs": [
    {
     "name": "stdout",
     "output_type": "stream",
     "text": [
      "<class 'bs4.BeautifulSoup'>\n",
      "!-- 52.152 -->\n",
      "<!DOCTYPE html>\n",
      "<html lang=\"en\">\n",
      " <head>\n",
      "  <script type=\"text/javascript\">\n",
      "   var base_url = 'http://tekno.kompas.com/';\n",
      "    var crn_url  = 'aHR0cDovL3Rla25vLmtvbXBhcy5jb20v';\n",
      "    var limit_personalisasi = 5;\n",
      "  </script>\n",
      "  <!-- Meta, title, favicons, etc. -->\n",
      "  <meta charset=\"utf-8\"/>\n",
      "  <meta content=\"IE=edge,chrome=1\" http-equiv=\"X-UA-Compatible\"/>\n",
      "  <meta content=\"width=device-width\" name=\"viewport\"/>\n",
      "  <meta content=\"Kompas Tekno\" name=\"description\"/>\n",
      "  <meta content=\"artikel komputer, artikel teknologi, belajar komputer, berita indonesia, berita teknologi, berita terbaru, broadband internet, camera review, camera reviews, computer, computer building tips, computer buying tips, computer help, computer help desk, computer maintenance tips, computer parts, computer performance tips, computer repair, computer repair tips, computer safety tips, computer science, computer security tips, computer tech tips, computer tip of the day, computer tips, computer tips and tricks, \n"
     ]
    }
   ],
   "source": [
    "from bs4 import BeautifulSoup\n",
    "\n",
    "soup = BeautifulSoup(page, \"lxml\")\n",
    "print(type(soup))\n",
    "print(soup.prettify()[1:1000])"
   ]
  },
  {
   "cell_type": "markdown",
   "metadata": {},
   "source": [
    "### Mendapatkan Semua Link yang Ada di HTML\n",
    "Di dalam HTML, setiap link selalu berada di dalam <a href=\"\">xxx</a>. Oleh karena itu kita melakukan filter berdasarkan 'a'."
   ]
  },
  {
   "cell_type": "code",
   "execution_count": 79,
   "metadata": {
    "collapsed": false
   },
   "outputs": [
    {
     "data": {
      "text/plain": [
       "['http://video.kompas.com/rubrik/inspirasi',\n",
       " 'http://video.kompas.com/rubrik/travel',\n",
       " 'http://video.kompas.com/rubrik/animations',\n",
       " 'http://tv.kompas.com/',\n",
       " 'http://tv.kompas.com/live',\n",
       " 'http://tv.kompas.com/rubrik/peristiwa',\n",
       " 'http://tv.kompas.com/rubrik/sports',\n",
       " 'http://tv.kompas.com/rubrik/entertainment',\n",
       " 'http://tv.kompas.com/rubrik/feature',\n",
       " 'http://tv.kompas.com/rubrik/aiman',\n",
       " 'http://tv.kompas.com/rubrik/mencari.pemimpin',\n",
       " 'http://tv.kompas.com/rubrik/rosi',\n",
       " 'http://tv.kompas.com/rubrik/satu.meja',\n",
       " 'http://tv.kompas.com/rubrik/ultimate.u',\n",
       " 'http://vik.kompas.com',\n",
       " 'http://tekno.kompas.com/tag/Review',\n",
       " 'http://tekno.kompas.com/tag/Android',\n",
       " 'http://tekno.kompas.com/tag/Apple',\n",
       " 'http://tekno.kompas.com/tag/Menkominfo',\n",
       " 'http://tekno.kompas.com/tag/Smartfren',\n",
       " 'http://tekno.kompas.com/tag/Samsung',\n",
       " 'http://tekno.kompas.com/tag/Balon Google',\n",
       " 'http://tekno.kompas.com/tag/iPhone 7',\n",
       " 'http://tekno.kompas.com/tag/Facebook',\n",
       " 'http://tekno.kompas.com/tag/Lenovo',\n",
       " 'http://tekno.kompas.com/tag/Xiaomi',\n",
       " 'http://tekno.kompas.com/read/2016/10/11/20250097/harga.sama.lebih.baik.beli.google.pixel.atau.iphone.7.',\n",
       " 'http://tekno.kompas.com/read/2016/10/11/09043627/samsung.resmi.stop.penjualan.dan.penukaran.galaxy.note.7',\n",
       " 'http://tekno.kompas.com/read/2016/10/10/20440007/7.langkah.ampuh.mengatasi.ponsel.android.yang.mulai.lambat',\n",
       " 'http://tekno.kompas.com/read/2016/10/10/15160067/google.hapus.utang.rp.1.4.miliar.bocah.12.tahun.',\n",
       " 'http://ads3.kompasads.com/new/www/delivery/ck.php?n=a33e13b3&cb=INSERT_RANDOM_NUMBER_HERE',\n",
       " 'http://tekno.kompas.com/read/2016/10/11/16514197/samsung.resmi.hentikan.galaxy.note.7.selamanya',\n",
       " 'http://tekno.kompas.com/read/2016/10/11/15520077/perbandingan.kamera.mirrorless.sony.a6500.vs.fujifilm.x-t2',\n",
       " 'http://tekno.kompas.com/read/2016/10/11/15010097/maling.tertangkap.kamera.google.street.view',\n",
       " 'http://tekno.kompas.com/lipsus/4271/1/Samsung.Galaxy.Note.7',\n",
       " 'http://tekno.kompas.com/lipsus/4271/1/Samsung.Galaxy.Note.7',\n",
       " 'http://tekno.kompas.com/lipsus/4271/1/Samsung.Galaxy.Note.7',\n",
       " 'http://tekno.kompas.com/lipsus/4271/1/Samsung.Galaxy.Note.7',\n",
       " 'http://tekno.kompas.com/read/2016/10/11/13582977/kesaksian.pemilik.iphone.6s.mendesis.kemudian.meledak',\n",
       " 'http://tekno.kompas.com/read/2016/10/11/13180067/oppo.r9s.dipastikan.meluncur.19.oktober',\n",
       " 'http://tekno.kompas.com/read/2016/10/11/12460017/rilis.18.oktober.huawei.honor.6x.punya.kamera.dual.lens.',\n",
       " 'http://tekno.kompas.com/read/2016/10/11/11510017/proyektor.rp.1.miliar.epson.bisa.apa.saja.',\n",
       " 'http://tekno.kompas.com/read/2016/10/11/11110097/samsung.rilis.artpc.pulse.komputer.desktop.mirip.mac.pro',\n",
       " 'http://tekno.kompas.com/read/2016/10/11/10330097/cara.peretas.memanfaatkan.kamera.dalam.hacking.terbesar.sepanjang.sejarah',\n",
       " 'http://tekno.kompas.com/read/2016/10/11/09372907/review.huawei.p9.lite.desain.mewah.kamera.menengah',\n",
       " 'http://tekno.kompas.com/read/2016/10/11/09043627/samsung.resmi.stop.penjualan.dan.penukaran.galaxy.note.7',\n",
       " 'http://tekno.kompas.com/read/2016/10/11/08210057/tombol.home.galaxy.s8.bakal.seperti.iphone.7.',\n",
       " 'http://tekno.kompas.com/read/2016/10/11/07260517/facebook.resmikan.workplace.jejaring.sosial.untuk.perusahaan',\n",
       " 'http://tekno.kompas.com/read/2016/10/11/06070007/jangan.cari.10.nama.artis.ini.di.internet',\n",
       " 'http://tekno.kompas.com/read/2016/10/10/20440007/7.langkah.ampuh.mengatasi.ponsel.android.yang.mulai.lambat']"
      ]
     },
     "execution_count": 79,
     "metadata": {},
     "output_type": "execute_result"
    }
   ],
   "source": [
    "obj = soup.find_all(\"a\")\n",
    "#print(obj)\n",
    "link = []\n",
    "for row in obj:\n",
    "    b = row[\"href\"]\n",
    "    link.append(b)\n",
    "[link[i] for i in range(100,150)]"
   ]
  },
  {
   "cell_type": "markdown",
   "metadata": {},
   "source": [
    "### Mendapatkan Link Berita\n",
    "Dari sekian banyak link yang ada, tidak semuanya adalah link berita. Ada yang merupakan link iklan, tag, dll.. Apabila kita perhatikan, setiap link berita pasti mengandung string \"/read/\". Oleh karena itu, kita melakukan filter sekali lagi dengan parameter \"/read/\".\n",
    "\n",
    "Kita juga perlu menambahkan \"?page=all\" karena ada berita yang dibagi menjadi beberapa halaman."
   ]
  },
  {
   "cell_type": "code",
   "execution_count": 80,
   "metadata": {
    "collapsed": false
   },
   "outputs": [
    {
     "name": "stdout",
     "output_type": "stream",
     "text": [
      "34\n"
     ]
    },
    {
     "data": {
      "text/plain": [
       "['http://tekno.kompas.com/read/2016/10/11/20250097/harga.sama.lebih.baik.beli.google.pixel.atau.iphone.7.?page=all',\n",
       " 'http://tekno.kompas.com/read/2016/10/11/09043627/samsung.resmi.stop.penjualan.dan.penukaran.galaxy.note.7?page=all',\n",
       " 'http://tekno.kompas.com/read/2016/10/10/20440007/7.langkah.ampuh.mengatasi.ponsel.android.yang.mulai.lambat?page=all',\n",
       " 'http://tekno.kompas.com/read/2016/10/10/15160067/google.hapus.utang.rp.1.4.miliar.bocah.12.tahun.?page=all',\n",
       " 'http://tekno.kompas.com/read/2016/10/11/16514197/samsung.resmi.hentikan.galaxy.note.7.selamanya?page=all',\n",
       " 'http://tekno.kompas.com/read/2016/10/11/15520077/perbandingan.kamera.mirrorless.sony.a6500.vs.fujifilm.x-t2?page=all',\n",
       " 'http://tekno.kompas.com/read/2016/10/11/15010097/maling.tertangkap.kamera.google.street.view?page=all',\n",
       " 'http://tekno.kompas.com/read/2016/10/11/13582977/kesaksian.pemilik.iphone.6s.mendesis.kemudian.meledak?page=all',\n",
       " 'http://tekno.kompas.com/read/2016/10/11/13180067/oppo.r9s.dipastikan.meluncur.19.oktober?page=all',\n",
       " 'http://tekno.kompas.com/read/2016/10/11/12460017/rilis.18.oktober.huawei.honor.6x.punya.kamera.dual.lens.?page=all',\n",
       " 'http://tekno.kompas.com/read/2016/10/11/11510017/proyektor.rp.1.miliar.epson.bisa.apa.saja.?page=all',\n",
       " 'http://tekno.kompas.com/read/2016/10/11/11110097/samsung.rilis.artpc.pulse.komputer.desktop.mirip.mac.pro?page=all',\n",
       " 'http://tekno.kompas.com/read/2016/10/11/10330097/cara.peretas.memanfaatkan.kamera.dalam.hacking.terbesar.sepanjang.sejarah?page=all',\n",
       " 'http://tekno.kompas.com/read/2016/10/11/09372907/review.huawei.p9.lite.desain.mewah.kamera.menengah?page=all',\n",
       " 'http://tekno.kompas.com/read/2016/10/11/09043627/samsung.resmi.stop.penjualan.dan.penukaran.galaxy.note.7?page=all',\n",
       " 'http://tekno.kompas.com/read/2016/10/11/08210057/tombol.home.galaxy.s8.bakal.seperti.iphone.7.?page=all',\n",
       " 'http://tekno.kompas.com/read/2016/10/11/07260517/facebook.resmikan.workplace.jejaring.sosial.untuk.perusahaan?page=all',\n",
       " 'http://tekno.kompas.com/read/2016/10/11/06070007/jangan.cari.10.nama.artis.ini.di.internet?page=all',\n",
       " 'http://tekno.kompas.com/read/2016/10/10/20440007/7.langkah.ampuh.mengatasi.ponsel.android.yang.mulai.lambat?page=all',\n",
       " 'http://tekno.kompas.com/read/2016/10/10/18190007/xl.incar.2.juta.pelanggan.baru.dari.paket.mifi-router?page=all',\n",
       " 'http://tekno.kompas.com/read/2016/10/10/17390087/kacamata.epson.bisa.terhubung.dengan.drone.dji.dijual.rp.13.juta?page=all',\n",
       " 'http://tekno.kompas.com/read/2016/10/11/09372907/review.huawei.p9.lite.desain.mewah.kamera.menengah?page=all',\n",
       " 'http://tekno.kompas.com/read/2016/10/06/18270007/melihat.dari.dekat.samsung.gear.360.di.jakarta?page=all',\n",
       " 'http://tekno.kompas.com/read/2016/10/05/20050067/kesan.pertama.menggenggam.android.tahan.lama.lg.x.power?page=all',\n",
       " 'http://tekno.kompas.com/read/2016/10/07/09025767/3.hal.yang.ditanya.orang.jakarta.sebelum.beli.smartphone.?page=all',\n",
       " 'http://tekno.kompas.com/read/2016/10/07/15550027/cerita.mahasiswa.asal.boyolali.magang.di.silicon.valley?page=all',\n",
       " 'http://tekno.kompas.com/read/2016/10/05/08524377/berapa.harga.smartphone.google.pixel.dan.pixel.xl.?page=all',\n",
       " 'http://tekno.kompas.com/read/2016/10/09/12570077/lagi.ponsel.selamatkan.nyawa.manusia?page=all',\n",
       " 'http://tekno.kompas.com/read/2016/10/08/15160097/uber.berhentikan.sopir.khrisna.murti.berwajah.kaka.slank.?page=all',\n",
       " 'http://tekno.kompas.com/read/2016/10/07/10510067/ini.daftar.xiaomi.yang.kebagian.android.7.0.nougat.?page=all',\n",
       " 'http://tekno.kompas.com/read/2016/10/06/14054007/ayah.kandung.steve.jobs.menyesal.tak.mengenal.anaknya?page=all',\n",
       " 'http://tekno.kompas.com/read/2016/10/05/11240097/8.fitur.ini.bikin.pixel.berbeda.dari.android.biasa?page=all',\n",
       " 'http://tekno.kompas.com/read/2016/10/05/06555477/kamera.google.pixel.diklaim.ungguli.iphone.7.ini.buktinya?page=all',\n",
       " 'http://tekno.kompas.com/read/2016/10/05/19110027/beli.iphone.7.orang.indonesia.harus.nabung.3.bulan.tanpa.makan?page=all']"
      ]
     },
     "execution_count": 80,
     "metadata": {},
     "output_type": "execute_result"
    }
   ],
   "source": [
    "linkBerita = [url+\"?page=all\" for url in link if '/read/' in str(url)]\n",
    "print(len(linkBerita))\n",
    "[i for i in linkBerita]"
   ]
  },
  {
   "cell_type": "markdown",
   "metadata": {},
   "source": [
    "### Mengakses Berita Tertentu\n",
    "Untuk mengakses berita, kita hanya perlu mengganti URL dengan link berita yang akan kita scrap, selebihnya sama dengan bagiann awal tutorial. Di sini kita hanya mengakses berita dari link pertama (indeks ke-0)."
   ]
  },
  {
   "cell_type": "code",
   "execution_count": 117,
   "metadata": {
    "collapsed": false
   },
   "outputs": [
    {
     "name": "stdout",
     "output_type": "stream",
     "text": [
      "b'!-- 52.153 -->\\n<!DOCTYPE html>\\n<html lang=\"en\">\\n<head>\\n<script type=\"text/javascript\">\\n    var base_url = \\'http://tekno.kompas.com/\\';\\n    var crn_url  = \\'aHR0cDovL3Rla25vLmtvbXBhcy5jb20vcmVhZC8yMDE2LzEwLzExLzIwMjUwMDk3L2hhcmdhLnNhbWEubGViaWguYmFpay5iZWxpLmdvb2dsZS5waXhlbC5hdGF1LmlwaG9uZS43Lg==\\';\\n    var limit_personalisasi = 5;\\n</script>\\n\\n<!-- Meta, title, favicons, etc. -->\\n<meta charset=\"utf-8\">\\n<meta http-equiv=\"X-UA-Compatible\" content=\"IE=edge,chrome=1\">\\n<meta name=\"viewport\" content=\"width=device-width\">\\n<meta name=\"description\" content=\"Google dan Apple meluncurkan ponsel premium di kisaran harga mulai Rp 8,5 jutaan. Ada beberapa faktor pembanding untuk menentukan pilihan tepat.\">\\n<meta name=\"keywords\" content=\"\">\\n<meta name=\"author\" content=\"Kompas Cyber Media\">\\n\\n<title>Harga Sama, Lebih Baik Beli Google Pixel atau iPhone 7? - Kompas.com</title>\\n\\n<!-- s:new meta tag -->\\n<meta name=\"content_category\" content=\"Tekno\" /> \\n<meta name=\"content_subcategory\" content=\"Gadget\" /> \\n<met'\n"
     ]
    }
   ],
   "source": [
    "url = linkBerita[0]\n",
    "url\n",
    "req = http.urlopen(\"GET\",url)\n",
    "page = req.data\n",
    "print(page[1:1000])"
   ]
  },
  {
   "cell_type": "code",
   "execution_count": 118,
   "metadata": {
    "collapsed": false
   },
   "outputs": [
    {
     "name": "stdout",
     "output_type": "stream",
     "text": [
      "<class 'bs4.BeautifulSoup'>\n",
      "!-- 52.153 -->\n",
      "<!DOCTYPE html>\n",
      "<html lang=\"en\">\n",
      " <head>\n",
      "  <script type=\"text/javascript\">\n",
      "   var base_url = 'http://tekno.kompas.com/';\n",
      "    var crn_url  = 'aHR0cDovL3Rla25vLmtvbXBhcy5jb20vcmVhZC8yMDE2LzEwLzExLzIwMjUwMDk3L2hhcmdhLnNhbWEubGViaWguYmFpay5iZWxpLmdvb2dsZS5waXhlbC5hdGF1LmlwaG9uZS43Lg==';\n",
      "    var limit_personalisasi = 5;\n",
      "  </script>\n",
      "  <!-- Meta, title, favicons, etc. -->\n",
      "  <meta charset=\"utf-8\"/>\n",
      "  <meta content=\"IE=edge,chrome=1\" http-equiv=\"X-UA-Compatible\"/>\n",
      "  <meta content=\"width=device-width\" name=\"viewport\"/>\n",
      "  <meta content=\"Google dan Apple meluncurkan ponsel premium di kisaran harga mulai Rp 8,5 jutaan. Ada beberapa faktor pembanding untuk menentukan pilihan tepat.\" name=\"description\"/>\n",
      "  <meta content=\"\" name=\"keywords\"/>\n",
      "  <meta content=\"Kompas Cyber Media\" name=\"author\"/>\n",
      "  <title>\n",
      "   Harga Sama, Lebih Baik Beli Google Pixel atau iPhone 7? - Kompas.com\n",
      "  </title>\n",
      "  <!-- s:new meta tag -->\n",
      "  <meta content=\"Tekno\" name=\"content_category\"/>\n",
      "  <meta content=\"Gadget\" n\n"
     ]
    }
   ],
   "source": [
    "soup = BeautifulSoup(page, \"lxml\")\n",
    "print(type(soup))\n",
    "print(soup.prettify()[1:1000])"
   ]
  },
  {
   "cell_type": "markdown",
   "metadata": {},
   "source": [
    "### Mendapatkan Judul Berita\n",
    "Judul berita pada Kompas terletak di bagian \"div\" dengan kelas \"kcm-read-top clearfix\". Jika kita lihat hasilnya, judul berita ternyata diletakkan pada lokasi yang lebih spesifik, yaitu pada tag \"h2\"."
   ]
  },
  {
   "cell_type": "code",
   "execution_count": 119,
   "metadata": {
    "collapsed": false
   },
   "outputs": [
    {
     "name": "stdout",
     "output_type": "stream",
     "text": [
      "<div class=\"kcm-read-top clearfix\">\n",
      "<!-- s: breadcrumb -->\n",
      "<ul class=\"kcm-breadcrumb green\">\n",
      "<li><a href=\"http://tekno.kompas.com/\">Tekno</a></li>\n",
      "<li><a href=\"http://tekno.kompas.com/gadget\">Gadget</a></li>\n",
      "</ul>\n",
      "<!-- e: breadcrumb -->\n",
      "<br/>\n",
      "<!-- kolom -->\n",
      "<!-- kolom -->\n",
      "<h2>Harga Sama, Lebih Baik Beli Google Pixel atau iPhone 7?</h2>\n",
      "<div class=\"social clearfix\">\n",
      "<div class=\"kcm-date msmall grey mb2\" id=\"content\">\n",
      "<b>\n",
      "\t\t\t\t\t Fatimah Kartini Bohang\t\t\t\t\t</b>- Kompas Tekno\n",
      "\t\t\t\t\t\t\t\t\t\t<br/>\n",
      "\t\t\t\t\tSelasa, 11 Oktober 2016 | 20:25 WIB\t\t\t\t</div>\n",
      "<div class=\"social__share clearfix\">\n",
      "<ul class=\"social__wrap\">\n",
      "<li class=\"social__item\"><a class=\"social__link\" data-href=\"http://tekno.kompas.com/read/insert_share_count\" data-id=\"1054841\" data-kanal=\"TEKNO\" data-subkanal=\"Gadget\" href=\"javascript:void(0);\" onclick=\"fb_share('Harga Sama, Lebih Baik Beli Google Pixel atau iPhone 7?','http://tekno.kompas.com/read/2016/10/11/20250097/harga.sama.lebih.baik.beli.google.pixel.atau.iphone.7.',this)\"><span class=\"ico-shared icon-fb social__bg social__bg--fb\"></span></a></li>\n",
      "<li class=\"social__item\"><a class=\"social__link\" data-href=\"http://tekno.kompas.com/read/insert_share_count\" data-id=\"1054841\" data-kanal=\"TEKNO\" data-subkanal=\"Gadget\" href=\"javascript:void(0);\" onclick=\"tweet_share('Harga Sama, Lebih Baik Beli Google Pixel atau iPhone 7? http://kom.ps/AFvgYS')\"><span class=\"ico-shared icon-tw social__bg social__bg--tw\"></span></a></li>\n",
      "<li class=\"social__item\"><a class=\"social__link\" data-href=\"http://tekno.kompas.com/read/insert_share_count\" data-id=\"1054841\" data-kanal=\"TEKNO\" data-subkanal=\"Gadget\" href=\"javascript:void(0);\" onclick=\"plus_share('http://kom.ps/AFvgYS',this)\"><span class=\"ico-shared icon-gp2 social__bg social__bg--gp\"></span></a></li>\n",
      "<!-- <li class=\"social__item\"><a class=\"social__link\" href=\"#komentar\"><span class=\"ico-shared icon-comment social__bg social__bg--comment\"></span><span class=\"kcm-sosial-count\">komentar</span></a></li> -->\n",
      "<li class=\"social__item\"><a class=\"copylink\" data-url=\"http://tekno.kompas.com/read/2016/10/11/20250097/harga.sama.lebih.baik.beli.google.pixel.atau.iphone.7.?page=all\" href=\"#\"><span class=\"ico-shared icon-link social__bg social__bg--link\"></span><span class=\"kcm-sosial-count\">copy link</span></a></li>\n",
      "</ul>\n",
      "<div class=\"share-total\"><div id=\"total-count-atas\"></div><span>Shares</span></div>\n",
      "</div>\n",
      "</div>\n",
      "<div class=\"photo\" id=\"677454\" style=\"   max-width: 100% ; width:780px \"><img alt=\"\" data-aligment=\"\" data-width=\"780px\" src=\"http://assets.kompas.com/data/photo/2016/10/10/1551001pixellll780x390.jpg\"/><span class=\"pb_10 author\">Pocket-lint</span> Membandingkan Google Pixel dan iPhone 7.</div>\n",
      "<script async=\"\" src=\"//scripts.kiosked.com/loader/kiosked-loader.js?pub=11801&amp;site=12858\"></script>\n",
      "<script async=\"\" src=\"//anonymousdemographics.com/u?pub=11801&amp;site=12858&amp;ts=1472695051&amp;_response_content_type=js\"></script>\n",
      "</div>\n",
      "Harga Sama, Lebih Baik Beli Google Pixel atau iPhone 7?\n"
     ]
    }
   ],
   "source": [
    "obj = soup.find(\"div\",\"kcm-read-top clearfix\")\n",
    "judul = obj.find(\"h2\").text\n",
    "print(\"%s\\n%s\" % (obj,judul))"
   ]
  },
  {
   "cell_type": "markdown",
   "metadata": {},
   "source": [
    "### Mendapatkan Waktu Terbit Berita\n",
    "Waktu terbit berita pada Kompas terletak di bagian \"div\" dengan kelas \"kcm-date msmall grey mb2\". Jika kita lihat hasilnya, kita akan mendapati string yang tidak teratur, juga masih belum \"bersih\" dari nama penulis dan string \"Kompas Tekno\". Oleh karena itu, kita perlu menghapus semua karakter tab (\"\\t\") dan newline (\"\\n\"), kemudian menghilangkan informasi selain waktu terbit dengan melakukan partisi."
   ]
  },
  {
   "cell_type": "code",
   "execution_count": 120,
   "metadata": {
    "collapsed": false
   },
   "outputs": [
    {
     "name": "stdout",
     "output_type": "stream",
     "text": [
      "\n",
      "\n",
      "\t\t\t\t\t Fatimah Kartini Bohang\t\t\t\t\t- Kompas Tekno\n",
      "\t\t\t\t\t\t\t\t\t\t\n",
      "\t\t\t\t\tSelasa, 11 Oktober 2016 | 20:25 WIB\t\t\t\t\n",
      "Selasa, 11 Oktober 2016 | 20:25 WIB\n"
     ]
    }
   ],
   "source": [
    "obj = soup.find(\"div\",\"kcm-date msmall grey mb2\")\n",
    "waktu = obj.text\n",
    "print(waktu)\n",
    "head, sep, tail = waktu.replace(\"\\t\",\"\").replace(\"\\n\",\"\").partition(\"Tekno\")\n",
    "waktu = tail\n",
    "print(waktu)"
   ]
  },
  {
   "cell_type": "markdown",
   "metadata": {},
   "source": [
    "### Mendapatkan Isi Berita\n",
    "Judul berita pada Kompas terletak di bagian \"div\" dengan kelas \"kcm-read-text\"."
   ]
  },
  {
   "cell_type": "code",
   "execution_count": 121,
   "metadata": {
    "collapsed": false
   },
   "outputs": [
    {
     "name": "stdout",
     "output_type": "stream",
     "text": [
      "\n",
      "KOMPAS.com - Google meluncurkan duet smartphone Pixel dan Pixel XL pada pekan lalu, 4 Oktober 2016. Keduanya menjadi ponsel buatan Google pertama yang tak diberi embel-embel merek Nexus. Agaknya Google ingin memulai strategi baru di industri ponsel. Pixel dan Pixel XL sendiri digadang-gadang sebagai pesaing kuat iPhone 7 dan 7 Plus buatan Apple yang meluncur pada awal September lalu. Duet Pixel maupun iPhone 7 sama-sama merupakan ponsel premium dengan kisaran harga Rp 8,5 jutaan hingga Rp 11 jutaan. Lantas, dengan bujet tersebut, mana yang lebih layak dibeli?Baca: Daftar Harga Smartphone Google Pixel dan Pixel XL Berikut beberapa perbandingan lintas sektor antara Google Pixel dan Apple iPhone 7 varian standar, sebagaimana dihimpun KompasTekno, Selasa (11/10/2016) dari Pocket-lint. 1. DesainKedua merek mengusung desain elegan dengan fitur pemindai sidik jari ala ponsel high-end. Model iPhone 7 tampak lebih kecil dan langsing dengan ukuran 4,7 inci, sedangkan Google Pixel berukuran 5 inci.Untuk ketahanan fisik, iPhone 7 sudah memiliki fitur anti-air bersertifikasi IP67 yang bisa ditenggelamkan ke air berkedalaman 1 meter hingga 30 menit. Sementara itu, Pixel cuma dilindungi anti-air bersertifikasi IP53 yang cuma tahan cipratan. Apple menghilangkan port audio jack pada lini iPhone teranyarnya, sedangkan Pixel tetap menyematkan jack. Tak ada satupun tombol fisik pada sisi depan Pixel, sementara iPhone 7 masih memiliki satu buah di sisi tengah bawah layar. Soal berat, iPhone 7 berbobot 138 gram dengan dimensi ketebalan 138,3x67,1x7,1 mm atau lebih langsing dan ringan ketimbang lini Pixel. Ponsel Google tersebut beratnya 143 gram dengan dimensi ketebalan 143,8x69,5x8,6 mm. Google Pixel hadir dalam tiga varian warna, yakni Quite Black (hitam), Very Silver (perak) dan Really Blue (biru terang). Model ketiga paling laku karena bisa dibilang unik dibandingkan warna ponsel yang beredar di pasaran. iPhone 7 pun paling banyak diminati dalam balutan warna Jet Black (hitam) karena baru pertama kali disediakan Apple untuk produk ponselnya. Selain itu, ada juga varian Rose Gold (merah muda keemasan), Gold (emas), dan Silver (perak).2. TampilanPixel punya layar yang lebih besar dengan jenis AMOLED, sedangkan layar iPhone 7 mengandalkan LCD. Keunggulan iPhone 7 adalah memiliki fungsi 3D Touch yang lebih peka terhadap sentuhan pengguna. Jika ditilik dari jenis tampilannya, AMOLED lebih kaya warna dan tajam. Sementara itu, LCD iPhone 7 dengan kerapatan 326ppi seharusnya menghasilkan warna yang lebih lembut. 3. KameraPixel dan iPhone sama-sama percaya pada sensor kamera berkualitas 12 megapiksel. Meski demikian, bukaan iPhone 7 lebih lebar yakni f/1.8. Bukaan pada kamera Pixel hanya f/2.0. Hal ini mengindikasikan kemampuan kamera iPhone 7 yang lebih mumpuni dalam menghimpun cahaya. Fitur kamera pada Pixel mencakup phase detection autofocus dan laser detection autofocus untuk pembidikan yang lebih mudah fokus, serta dual-LED. Sementara pada iPhone 7, terdapat optical image stabilisation (ois) yang menjamin gambar tetap bagus meski dibidik di tengah guncangan, serta quad-LED yang lebih mumpuni.Beranjak ke kamera selfie, sensor Google lebih mumpuni dengan ukuran 8 megpiksel, sementara iPhone 7 hanya 7 megapiksel. Walau begitu, lagi-lagi bukaan iPhone 7 lebih lebar, yakni f/2.2 dibandingkan Pixel yang cuma f/2.4.\n",
      "4. HardwareProsesor quad-core sama-sama dipilih Google dan Apple sebagai otak Pixel dan iPhone 7. Google menggunakan Snapdragon 821 dari Qualcomm, sementara Apple menggunakan A10 buatannya. Soal RAM, Pixel menang dengan kapasitas 4GB dan iPhone 7 cuma 3 GB. Tapi jangan terburu-buru mengerdilkan iPhone 7. Sebab, RAM 1GB pada iOS dikatakan setara performanya dengan RAM 3 GB pada Android. Hal ini karena aplikasi iOS tak menggunakan Java seperti Android. Bangunan aplikasi Java membutuhkan kapasitas RAM lebih besar untuk beroperasi. Selain itu, Android dikatakan membutuhkan ruang memori ekstra besar untuk memroses Garbage Collection, yakni proses penggunaan kembali memori setelah aplikasi Android digunakan. Beda halnya dengan iOS yang tak perlu alokasi memori untuk Garbage Collection. Varian memori Pixel ada dua, yakni 32 GB dan 128 GB. Untuk iPhone 7, ada tiga varian, yakni 32 GB, 128 GB, dan 256 GB. Pengguna bisa memilih sesuai kebutuhan. Baterai yang merupakan salah satu komponen penting juga perlu dibandingkan. Pixel memiliki baterai berkapasitas 2770 mAh atau lebih jumbo ketimbang iPhone 7 yang cuma 1960 mAh.5. SoftwareGoogle Pixel berjalan dengan sistem operasi Android Nougat 7.1 teranyar. Ada asisten digital Google Assitant yang tersedia untuk membantu pengguna mencari informasi penting secara cepat dan mudah. Di sisi lain, iPhone 7 pun berjalan dengan sistem operasi iOS 10 terbaru. Ada juga asisten personal bernama Siri yang semakin lama semakin cerdas. 6. HargaKedua jenis ponsel harganya sama-sama dimulai dari 649 dollar AS atau Rp 8,5 jutaan. Untuk bujet itu, Anda bisa mendapat Pixel 32 GB atau iPhone 7 32 GB. Jika mau Pixel 128 GB, harga yang dipatok adalah 749 dollar AS atau senilai Rp 9,8 jutaan. Lagi-lagi, harga itu sama dengan yang dipatok iPhone 7 128 GB. Satu lagi pilihan harga untuk iPhone 7, yakni versi 256 GB yang tak dimiliki Pixel. Versi itu dibanderol 849 dollar AS atau setara Rp 11,1 juta. Baca: Berapa Harga iPhone 7 dan 7 Plus? 7. KesimpulanSulit menentukan mana yang layak dibeli antara Pixel dan iPhone 7 karena keduanya dibekali spesifikasi yang lebih kurang sama unggulnya. Jika Anda seorang fanboy Apple, tentu pilihannya sudah jelas. Sama halnya jika Anda seorang penggila Android yang tentu cenderung memilih Pixel. Untuk kasus ini, preferensi merek menjadi penentu utama. Tapi, jika Anda adalah orang yang objektif secara merek, ada beberapa pertimbangan kecil yang bisa dijadikan faktor penentu. Pertama, Pixel menang dalam soal ukuran dan kualitas tampilan, RAM, kapasitas baterai, serta resolusi kamera depan. Sedangkan iPhone 7 menang untuk ukuran fisik, kemampuan anti air, fungsi tampilan, opsi memori, dan fitur kamera. Jadi, menurut kebutuhan Anda, mana yang lebih layak dibeli? \n"
     ]
    }
   ],
   "source": [
    "obj = soup.find(\"div\",\"kcm-read-text\")\n",
    "isi = obj.text\n",
    "print(isi)"
   ]
  },
  {
   "cell_type": "markdown",
   "metadata": {},
   "source": [
    "### Mendapatkan Link Gambar Berita\n",
    "Setiap link gambar pada HTML selalu berada pada tag \"img\". Sayangnya, tidak semua tag \"img\" pada halaman berita Kompas adalah gambar yang berkaitan dengan berita, melainkan ada juga yang berupa iklan, logo, dll.. Jika kita melakukan pengamatan, maka gambar yang berkaitan dengan berita disimpan pada 2 macam tempat, yaitu pada tag \"div\" dengan kelas \"kcm-read-top clearfix\" dan pada tag \"div\" dengan kelas \"kcm-read-text\".\n",
    "\n",
    "Pada lokasi yang pertama, jumlah gambar selalu satu, sedangkan pada lokasi kedua, gambar bisa tidak ada atau bahkan lebih dari satu."
   ]
  },
  {
   "cell_type": "code",
   "execution_count": 122,
   "metadata": {
    "collapsed": false
   },
   "outputs": [
    {
     "name": "stdout",
     "output_type": "stream",
     "text": [
      "<img alt=\"\" data-aligment=\"\" data-width=\"780px\" src=\"http://assets.kompas.com/data/photo/2016/10/10/1551001pixellll780x390.jpg\"/>\n"
     ]
    },
    {
     "data": {
      "text/plain": [
       "['http://assets.kompas.com/data/photo/2016/10/10/1551001pixellll780x390.jpg']"
      ]
     },
     "execution_count": 122,
     "metadata": {},
     "output_type": "execute_result"
    }
   ],
   "source": [
    "linkGambar = []\n",
    "obj = soup.find(\"div\",\"kcm-read-top clearfix\").find(\"img\")\n",
    "print(obj)\n",
    "linkGambar.append(obj[\"src\"])\n",
    "obj = soup.find(\"div\",\"kcm-read-text\").find_all(\"img\")\n",
    "[linkGambar.append(img[\"src\"]) for img in obj]\n",
    "[img for img in linkGambar]"
   ]
  },
  {
   "cell_type": "markdown",
   "metadata": {},
   "source": [
    "### Download Gambar Berita\n",
    "Link gambar yang sudah kita peroleh kemudian disimpan di folder \"Data Kompas\" dengan nama sesuai yang tertera pada link."
   ]
  },
  {
   "cell_type": "code",
   "execution_count": 123,
   "metadata": {
    "collapsed": false
   },
   "outputs": [],
   "source": [
    "import os\n",
    "\n",
    "folder = \"Data Kompas\"\n",
    "\n",
    "if not os.path.exists(folder):\n",
    "    os.makedirs(folder)\n",
    "\n",
    "for link in linkGambar:\n",
    "    req = http.urlopen('GET',link)\n",
    "    with open(os.path.join(folder, os.path.basename(link)),'wb') as img:\n",
    "        img.write(req.data)"
   ]
  },
  {
   "cell_type": "markdown",
   "metadata": {},
   "source": [
    "### Menyimpan Informasi Berita ke dalam File Teks\n",
    "Judul, waktu terbit, dan isi berita kita satukan dalam sebuah file .txt yang disimpan di folder \"Data Kompas\"."
   ]
  },
  {
   "cell_type": "code",
   "execution_count": 124,
   "metadata": {
    "collapsed": false
   },
   "outputs": [],
   "source": [
    "txtName = \"berita.txt\"\n",
    "\n",
    "with open(os.path.join(folder, txtName), \"w\") as f:\n",
    "    f.write(judul+\"\\n\\n\")\n",
    "    f.write(waktu+\"\\n\\n\")\n",
    "    f.write(isi)"
   ]
  },
  {
   "cell_type": "code",
   "execution_count": null,
   "metadata": {
    "collapsed": true
   },
   "outputs": [],
   "source": []
  }
 ],
 "metadata": {
  "kernelspec": {
   "display_name": "Python [conda root]",
   "language": "python",
   "name": "conda-root-py"
  },
  "language_info": {
   "codemirror_mode": {
    "name": "ipython",
    "version": 3
   },
   "file_extension": ".py",
   "mimetype": "text/x-python",
   "name": "python",
   "nbconvert_exporter": "python",
   "pygments_lexer": "ipython3",
   "version": "3.5.2"
  }
 },
 "nbformat": 4,
 "nbformat_minor": 1
}
