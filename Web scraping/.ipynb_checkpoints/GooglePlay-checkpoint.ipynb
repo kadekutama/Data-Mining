{
 "cells": [
  {
   "cell_type": "code",
   "execution_count": 1,
   "metadata": {
    "collapsed": false
   },
   "outputs": [
    {
     "name": "stdout",
     "output_type": "stream",
     "text": [
      "200\n"
     ]
    }
   ],
   "source": [
    "import requests\n",
    "from lxml import html\n",
    "import pandas as pd\n",
    "\n",
    "response = requests.get('https://play.google.com/store/apps/details?id=com.mediocre.commute&hl=en');\n",
    "print(response.status_code)"
   ]
  },
  {
   "cell_type": "code",
   "execution_count": 4,
   "metadata": {
    "collapsed": false
   },
   "outputs": [],
   "source": [
    "#print(response.content)"
   ]
  },
  {
   "cell_type": "code",
   "execution_count": 2,
   "metadata": {
    "collapsed": false
   },
   "outputs": [
    {
     "name": "stdout",
     "output_type": "stream",
     "text": [
      "<Element html at 0x8940b88>\n"
     ]
    }
   ],
   "source": [
    "parsed_body = html.fromstring(response.content)\n",
    "print(parsed_body)"
   ]
  },
  {
   "cell_type": "code",
   "execution_count": 3,
   "metadata": {
    "collapsed": false
   },
   "outputs": [
    {
     "name": "stdout",
     "output_type": "stream",
     "text": [
      "['Does not Commute']\n"
     ]
    }
   ],
   "source": [
    "app_name = parsed_body.xpath('//div[@class=\"document-title\"]/div/text()')\n",
    "print(app_name)"
   ]
  },
  {
   "cell_type": "code",
   "execution_count": 4,
   "metadata": {
    "collapsed": false
   },
   "outputs": [
    {
     "name": "stdout",
     "output_type": "stream",
     "text": [
      "['Racing']\n"
     ]
    }
   ],
   "source": [
    "app_category = parsed_body.xpath('//a[@class=\"document-subtitle category\"]/span[@itemprop=\"genre\"]/text()')\n",
    "print(app_category)"
   ]
  },
  {
   "cell_type": "code",
   "execution_count": 5,
   "metadata": {
    "collapsed": false
   },
   "outputs": [
    {
     "name": "stdout",
     "output_type": "stream",
     "text": [
      "[\"Editors' Choice\", 'Top Developer']\n"
     ]
    }
   ],
   "source": [
    "choice = parsed_body.xpath('//span[@class=\"badge-title\"]/text()')\n",
    "print(choice)"
   ]
  },
  {
   "cell_type": "code",
   "execution_count": 6,
   "metadata": {
    "collapsed": false
   },
   "outputs": [
    {
     "name": "stdout",
     "output_type": "stream",
     "text": [
      "['3.9']\n"
     ]
    }
   ],
   "source": [
    "app_score = parsed_body.xpath('//div[@class=\"score\"]/text()')\n",
    "print(app_score)"
   ]
  },
  {
   "cell_type": "code",
   "execution_count": 7,
   "metadata": {
    "collapsed": false
   },
   "outputs": [
    {
     "name": "stdout",
     "output_type": "stream",
     "text": [
      "['143,041']\n",
      "143041\n"
     ]
    }
   ],
   "source": [
    "app_rating = parsed_body.xpath('//div[@class=\"reviews-stats\"]/span/text()')\n",
    "print(app_rating)\n",
    "\n",
    "app_rating = int(app_rating[0].replace(',',''))\n",
    "print(app_rating)"
   ]
  },
  {
   "cell_type": "code",
   "execution_count": 8,
   "metadata": {
    "collapsed": false
   },
   "outputs": [
    {
     "name": "stdout",
     "output_type": "stream",
     "text": [
      "15\n",
      "['//lh3.googleusercontent.com/jAP_Q4Q5Lwf7RqI__8NtxWYq9gfvuW0ge8swDT-5xNtZ8Z1cIHuJqBHza_ZrrNKVSA=h310', '//lh3.googleusercontent.com/pbPDXPfitMX8NtSpXBMs12C-TN0Mqj6rzo6jmkAvhfkK1QhdKBCUbbCK0qKm86iciQ=h310', '//lh3.googleusercontent.com/3CeZjRQN_Yc7anf6jelQeFN7iKTnaO2FXMPNDQDI8bmr6uwa7qYuXzQwfh29VfI_4Q=h310', '//lh3.googleusercontent.com/5S7_Crw0V_i69uVC_C14t_gGeDioiiQAVYIjVp7NkkAjwJgMaw_YWridWYSN7sKbDZbX=h310', '//lh3.googleusercontent.com/y6a96-8Qd9vdJPcbGJUhDYzJxq-TZIlxj-sQl0tuwgXRC_y-gTP-mH0TphttvHCFFw=h310', '//lh3.googleusercontent.com/PuD4dijjDZ0YLxX0zBIGGgSUAkEtSuLRuNQhFK1bZ0b3Qivj1Ra2wnQ5C5BTS1AHC2w=h310', '//lh3.googleusercontent.com/6cm2s-WsyXa6usJpshzZllxT_nu5-phSL4Eiwv58AjNaahVun7_ZpMl6hUOotdDsp3o=h310', '//lh3.googleusercontent.com/g9I7hwhvZXA5X5NOdvPyf4NcXAIUp2VzksBg7zCNCSSnVdgeHn5iAr_hGNFixxeAqj-q=h310', '//lh3.googleusercontent.com/3gokSAjUl2if8Q_0YmW-bxEflPmdhSi7XRlifJZR4CPkNyjcE--WvXGcCNU7selGjA=h310', '//lh3.googleusercontent.com/wuWw6tG_eAkevKkHDVawkSlUIRmKnneirdeGfHUQKtTQMP0Lb1yov1ZKZ6WUlmfH0Tg=h310', '//lh3.googleusercontent.com/07w-qdoIFq5dcDz5-efXvP3gjyCg-TyxzB1ffDAd6vo7_xVtKoC6usBOe3UIWCoqIJo=h310', '//lh3.googleusercontent.com/P0HntCfiyVCJLweCls7otdJxHf7y70M9EJdD3U2pmFJ1ieN63eKxnV47ShIBw6d6KA=h310', '//lh3.googleusercontent.com/97gNyuB_G0ijvRMjW8kmC1tkDN6J4adP0RROraxXTjsq4P0ZJdoH2Sis5VqR18hoogU=h310', '//lh3.googleusercontent.com/pXOr18U3a4plPlvGrXyisAJCPGVtW3ipHrv0tMf-IrplUoUr4lmUcvfVfgXVU8rH_PM=h310', '//lh3.googleusercontent.com/naryTNHzlCVs4tGS0tJsfXNGqmM4a_DH8qipIj0uZQgPIabGCafghOTWWCL4xjowJu8=h310']\n"
     ]
    }
   ],
   "source": [
    "screenshots = parsed_body.xpath('//div[@class=\"thumbnails\"]/img/@src')\n",
    "print(len(screenshots))\n",
    "print(screenshots)"
   ]
  },
  {
   "cell_type": "code",
   "execution_count": null,
   "metadata": {
    "collapsed": true
   },
   "outputs": [],
   "source": []
  }
 ],
 "metadata": {
  "anaconda-cloud": {},
  "kernelspec": {
   "display_name": "Python [Root]",
   "language": "python",
   "name": "Python [Root]"
  },
  "language_info": {
   "codemirror_mode": {
    "name": "ipython",
    "version": 2
   },
   "file_extension": ".py",
   "mimetype": "text/x-python",
   "name": "python",
   "nbconvert_exporter": "python",
   "pygments_lexer": "ipython2",
   "version": "2.7.12"
  }
 },
 "nbformat": 4,
 "nbformat_minor": 0
}
