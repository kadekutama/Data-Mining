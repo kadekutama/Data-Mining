{
 "cells": [
  {
   "cell_type": "markdown",
   "metadata": {},
   "source": [
    "# Mangapanda Scraping\n",
    "\n",
    "### Kadek Dwi Budi Utama\n",
    "### https://github.com/kadekutama\n",
    "\n",
    "2016"
   ]
  },
  {
   "cell_type": "markdown",
   "metadata": {},
   "source": [
    "### URL Initialization and Getting Access to Mangapanda\n",
    "In this tutorial, we will scrape a manga called \"Nisekoi\"."
   ]
  },
  {
   "cell_type": "code",
   "execution_count": 1,
   "metadata": {
    "collapsed": false
   },
   "outputs": [
    {
     "name": "stdout",
     "output_type": "stream",
     "text": [
      "<urllib3.response.HTTPResponse object at 0x0000029290FD23C8>\n",
      "b'!DOCTYPE html PUBLIC \"-//W3C//DTD XHTML 1.0 Transitional//EN\"\\n    \"http://www.w3.org/TR/xhtml1/DTD/xhtml1-transitional.dtd\">\\n<html xmlns=\"http://www.w3.org/1999/xhtml\" dir=\"ltr\" lang=\"en\" xml:lang=\"en\">\\n<head>\\n<meta http-equiv=\"Content-Type\" content=\"text/html; charset=utf-8\" />\\n<meta name=\"description\" content=\"Nisekoi Manga - Read Nisekoi Online for free at Mangapanda\" />\\n<meta name=\"keywords\" content=\"Nisekoi,Nisekoi manga,read Nisekoi manga,Nisekoi manga online\" />\\n<title>Nisekoi Manga - Read Nisekoi Online For Free</title>\\n<!--[if lte IE 7]>\\n        <link rel=\"stylesheet\" type=\"text/css\" href=\"/styles/ie.css\">\\n<![endif]-->\\n<link rel=\"shortcut icon\" href=\"http://s1.mangapanda.com/favicon.ico\" />\\n<link href=\"http://s1.mangapanda.com/sup/styles/1198917538_0f9cf84fee76beae6401294fa65bd076.css\" rel=\"stylesheet\" type=\"text/css\" />\\n<script type=\"text/javascript\">\\n(function() {\\nvar s = document.createElement(\\'script\\'); s.type = \\'text/javascript\\'; s.async = true;\\ns.src = \\'http://s1.mangap'\n"
     ]
    }
   ],
   "source": [
    "import urllib3 as u3\n",
    "\n",
    "url = \"http://www.mangapanda.com/nisekoi\"\n",
    "header = {'User-Agent': 'Mozilla/5.0 (Windows NT 10.0; Win64; x64; rv:49.0) Gecko/20100101 Firefox/49.0'}\n",
    "\n",
    "u3.disable_warnings()\n",
    "http = u3.PoolManager(10, headers=header)\n",
    "req = http.urlopen('GET', url)\n",
    "print(req)\n",
    "page = req.data\n",
    "print(page[1:1000])"
   ]
  },
  {
   "cell_type": "markdown",
   "metadata": {},
   "source": [
    "### Getting HTML File from the URL\n",
    "We used BeautifulSoup library for doing this task."
   ]
  },
  {
   "cell_type": "code",
   "execution_count": 2,
   "metadata": {
    "collapsed": false
   },
   "outputs": [
    {
     "name": "stdout",
     "output_type": "stream",
     "text": [
      "<class 'bs4.BeautifulSoup'>\n",
      "!DOCTYPE html PUBLIC \"-//W3C//DTD XHTML 1.0 Transitional//EN\" \"http://www.w3.org/TR/xhtml1/DTD/xhtml1-transitional.dtd\">\n",
      "<html dir=\"ltr\" lang=\"en\" xml:lang=\"en\" xmlns=\"http://www.w3.org/1999/xhtml\">\n",
      " <head>\n",
      "  <meta content=\"text/html; charset=utf-8\" http-equiv=\"Content-Type\"/>\n",
      "  <meta content=\"Nisekoi Manga - Read Nisekoi Online for free at Mangapanda\" name=\"description\"/>\n",
      "  <meta content=\"Nisekoi,Nisekoi manga,read Nisekoi manga,Nisekoi manga online\" name=\"keywords\"/>\n",
      "  <title>\n",
      "   Nisekoi Manga - Read Nisekoi Online For Free\n",
      "  </title>\n",
      "  <!--[if lte IE 7]>\n",
      "        <link rel=\"stylesheet\" type=\"text/css\" href=\"/styles/ie.css\">\n",
      "<![endif]-->\n",
      "  <link href=\"http://s1.mangapanda.com/favicon.ico\" rel=\"shortcut icon\"/>\n",
      "  <link href=\"http://s1.mangapanda.com/sup/styles/1198917538_0f9cf84fee76beae6401294fa65bd076.css\" rel=\"stylesheet\" type=\"text/css\"/>\n",
      "  <script type=\"text/javascript\">\n",
      "   (function() {\n",
      "var s = document.createElement('script'); s.type = 'text/javascript'; s.async = true;\n",
      "s.src =\n"
     ]
    }
   ],
   "source": [
    "from bs4 import BeautifulSoup\n",
    "\n",
    "soup = BeautifulSoup(page, \"lxml\")\n",
    "print(type(soup))\n",
    "print(soup.prettify()[1:1000])"
   ]
  },
  {
   "cell_type": "markdown",
   "metadata": {},
   "source": [
    "### Find Table that Contains Chapters of the Manga\n",
    "When we used element inspector, we'll find out that manga chapters is located at a table with id \"listing\"."
   ]
  },
  {
   "cell_type": "code",
   "execution_count": 17,
   "metadata": {
    "collapsed": false
   },
   "outputs": [],
   "source": [
    "table = soup.find(\"table\",{\"id\":\"listing\"})\n",
    "#print(table)"
   ]
  },
  {
   "cell_type": "markdown",
   "metadata": {},
   "source": [
    "### Getting Chapter Links\n",
    "According to the element inspector, we know that chapter links is located at tag \"a\"."
   ]
  },
  {
   "cell_type": "code",
   "execution_count": 21,
   "metadata": {
    "collapsed": false
   },
   "outputs": [
    {
     "name": "stdout",
     "output_type": "stream",
     "text": [
      "[<a href=\"/nisekoi/2\">Nisekoi 2</a>, <a href=\"/nisekoi/3\">Nisekoi 3</a>, <a href=\"/nisekoi/4\">Nisekoi 4</a>, <a href=\"/nisekoi/5\">Nisekoi 5</a>, <a href=\"/nisekoi/6\">Nisekoi 6</a>, <a href=\"/nisekoi/7\">Nisekoi 7</a>, <a href=\"/nisekoi/8\">Nisekoi 8</a>, <a href=\"/nisekoi/9\">Nisekoi 9</a>, <a href=\"/nisekoi/10\">Nisekoi 10</a>]\n"
     ]
    }
   ],
   "source": [
    "chapter = table.find_all(\"a\")\n",
    "print(chapter[1:10])"
   ]
  },
  {
   "cell_type": "code",
   "execution_count": 28,
   "metadata": {
    "collapsed": false
   },
   "outputs": [
    {
     "data": {
      "text/plain": [
       "['http://www.mangapanda.com/nisekoi/1',\n",
       " 'http://www.mangapanda.com/nisekoi/2',\n",
       " 'http://www.mangapanda.com/nisekoi/3',\n",
       " 'http://www.mangapanda.com/nisekoi/4',\n",
       " 'http://www.mangapanda.com/nisekoi/5']"
      ]
     },
     "execution_count": 28,
     "metadata": {},
     "output_type": "execute_result"
    }
   ],
   "source": [
    "linkChapter = []\n",
    "host = \"http://www.mangapanda.com\"\n",
    "\n",
    "linkChapter = [host+link[\"href\"] for link in chapter]\n",
    "[link for link in linkChapter[0:5]]"
   ]
  },
  {
   "cell_type": "markdown",
   "metadata": {},
   "source": [
    "### Scrape Chapter 1\n",
    "First, we need to make requests to the chapter link."
   ]
  },
  {
   "cell_type": "code",
   "execution_count": 29,
   "metadata": {
    "collapsed": false
   },
   "outputs": [
    {
     "name": "stdout",
     "output_type": "stream",
     "text": [
      "b'!DOCTYPE html PUBLIC \"-//W3C//DTD XHTML 1.0 Transitional//EN\"\\n    \"http://www.w3.org/TR/xhtml1/DTD/xhtml1-transitional.dtd\">\\n<html xmlns=\"http://www.w3.org/1999/xhtml\" dir=\"ltr\" lang=\"en\" xml:lang=\"en\">\\n<head>\\n<meta http-equiv=\"Content-Type\" content=\"text/html; charset=utf-8\" />\\n<meta name=\"description\" content=\"Nisekoi 1 - Read Nisekoi 1 Manga Scans Page 1. Free and No Registration required for Nisekoi 1\" />\\n<meta name=\"keywords\" content=\"nisekoi 1,nisekoi chapter 1,nisekoi,nisekoi manga,nisekoi 1 page 1\" />\\n<title>Nisekoi 1 - Read Nisekoi 1 Online - Page 1</title>\\n<!--[if lte IE 7]>\\n        <link rel=\"stylesheet\" type=\"text/css\" href=\"/styles/ie.css\">\\n<![endif]-->\\n<link rel=\"shortcut icon\" href=\"http://s1.mangapanda.com/favicon.ico\" />\\n<link href=\"http://s1.mangapanda.com/sup/styles/1198917538_bb628948432dca1908049ae7daca0b57.css\" rel=\"stylesheet\" type=\"text/css\" />\\n<style type=\"text/css\">\\n\\n\\t.content-r-ad,\\n\\t.content-l-ad{\\n\\t\\twidth: 160px;\\n\\t\\theight: auto;\\n\\t\\tfloat: right;\\n\\t\\toverflow: h'\n"
     ]
    }
   ],
   "source": [
    "url = linkChapter[0]\n",
    "url\n",
    "req = http.urlopen(\"GET\",url)\n",
    "page = req.data\n",
    "print(page[1:1000])"
   ]
  },
  {
   "cell_type": "code",
   "execution_count": 30,
   "metadata": {
    "collapsed": false
   },
   "outputs": [
    {
     "name": "stdout",
     "output_type": "stream",
     "text": [
      "<class 'bs4.BeautifulSoup'>\n",
      "!DOCTYPE html PUBLIC \"-//W3C//DTD XHTML 1.0 Transitional//EN\" \"http://www.w3.org/TR/xhtml1/DTD/xhtml1-transitional.dtd\">\n",
      "<html dir=\"ltr\" lang=\"en\" xml:lang=\"en\" xmlns=\"http://www.w3.org/1999/xhtml\">\n",
      " <head>\n",
      "  <meta content=\"text/html; charset=utf-8\" http-equiv=\"Content-Type\"/>\n",
      "  <meta content=\"Nisekoi 1 - Read Nisekoi 1 Manga Scans Page 1. Free and No Registration required for Nisekoi 1\" name=\"description\"/>\n",
      "  <meta content=\"nisekoi 1,nisekoi chapter 1,nisekoi,nisekoi manga,nisekoi 1 page 1\" name=\"keywords\"/>\n",
      "  <title>\n",
      "   Nisekoi 1 - Read Nisekoi 1 Online - Page 1\n",
      "  </title>\n",
      "  <!--[if lte IE 7]>\n",
      "        <link rel=\"stylesheet\" type=\"text/css\" href=\"/styles/ie.css\">\n",
      "<![endif]-->\n",
      "  <link href=\"http://s1.mangapanda.com/favicon.ico\" rel=\"shortcut icon\"/>\n",
      "  <link href=\"http://s1.mangapanda.com/sup/styles/1198917538_bb628948432dca1908049ae7daca0b57.css\" rel=\"stylesheet\" type=\"text/css\"/>\n",
      "  <style type=\"text/css\">\n",
      "   .content-r-ad,\n",
      "\t.content-l-ad{\n",
      "\t\twidth: 160px;\n",
      "\t\theight: auto;\n",
      "\t\tfloat: righ\n"
     ]
    }
   ],
   "source": [
    "soup = BeautifulSoup(page, \"lxml\")\n",
    "print(type(soup))\n",
    "print(soup.prettify()[1:1000])"
   ]
  },
  {
   "cell_type": "markdown",
   "metadata": {},
   "source": [
    "### Getting Chapter Page Links\n",
    "According to the element inspector, we know that chapter page links is located at tag \"option\".\n",
    "Link format: http://www.mangapanda.com/nisekoi/1/PAGENUMBER.\n",
    "So, we just need to find out the number of pages in current chapter."
   ]
  },
  {
   "cell_type": "code",
   "execution_count": 43,
   "metadata": {
    "collapsed": false
   },
   "outputs": [
    {
     "name": "stdout",
     "output_type": "stream",
     "text": [
      "56\n",
      "http://www.mangapanda.com/nisekoi/1/\n"
     ]
    }
   ],
   "source": [
    "obj = soup.find_all(\"option\")\n",
    "maxPage = len(obj)\n",
    "print(maxPage)\n",
    "chapterHost = linkChapter[0]+\"/\"\n",
    "print(chapterHost)"
   ]
  },
  {
   "cell_type": "markdown",
   "metadata": {},
   "source": [
    "### Getting Image Link on Every Chapter Page\n",
    "According to the element inspector, we know that image link is located at tag \"img\" with id \"img\".\n",
    "We need to iterate every page (1-56), make requests, parse the HTML, and find image link with specified tag."
   ]
  },
  {
   "cell_type": "code",
   "execution_count": 46,
   "metadata": {
    "collapsed": false
   },
   "outputs": [
    {
     "data": {
      "text/plain": [
       "['http://i6.mangapanda.com/nisekoi/1/nisekoi-2784539.jpg',\n",
       " 'http://i8.mangapanda.com/nisekoi/1/nisekoi-2784541.jpg',\n",
       " 'http://i10.mangapanda.com/nisekoi/1/nisekoi-2784543.jpg',\n",
       " 'http://i10.mangapanda.com/nisekoi/1/nisekoi-2784545.jpg',\n",
       " 'http://i6.mangapanda.com/nisekoi/1/nisekoi-2784547.jpg',\n",
       " 'http://i8.mangapanda.com/nisekoi/1/nisekoi-2784549.jpg',\n",
       " 'http://i6.mangapanda.com/nisekoi/1/nisekoi-2784551.jpg',\n",
       " 'http://i4.mangapanda.com/nisekoi/1/nisekoi-2784553.jpg',\n",
       " 'http://i4.mangapanda.com/nisekoi/1/nisekoi-2784555.jpg',\n",
       " 'http://i8.mangapanda.com/nisekoi/1/nisekoi-2784557.jpg',\n",
       " 'http://i8.mangapanda.com/nisekoi/1/nisekoi-2784559.jpg',\n",
       " 'http://i7.mangapanda.com/nisekoi/1/nisekoi-2784561.jpg',\n",
       " 'http://i5.mangapanda.com/nisekoi/1/nisekoi-2784563.jpg',\n",
       " 'http://i1.mangapanda.com/nisekoi/1/nisekoi-2784565.jpg',\n",
       " 'http://i5.mangapanda.com/nisekoi/1/nisekoi-2784567.jpg',\n",
       " 'http://i7.mangapanda.com/nisekoi/1/nisekoi-2784569.jpg',\n",
       " 'http://i3.mangapanda.com/nisekoi/1/nisekoi-2784571.jpg',\n",
       " 'http://i1.mangapanda.com/nisekoi/1/nisekoi-2784573.jpg',\n",
       " 'http://i7.mangapanda.com/nisekoi/1/nisekoi-2784575.jpg',\n",
       " 'http://i7.mangapanda.com/nisekoi/1/nisekoi-2784577.jpg',\n",
       " 'http://i5.mangapanda.com/nisekoi/1/nisekoi-2784579.jpg',\n",
       " 'http://i7.mangapanda.com/nisekoi/1/nisekoi-2784581.jpg',\n",
       " 'http://i7.mangapanda.com/nisekoi/1/nisekoi-2784583.jpg',\n",
       " 'http://i1.mangapanda.com/nisekoi/1/nisekoi-2784585.jpg',\n",
       " 'http://i3.mangapanda.com/nisekoi/1/nisekoi-2784587.jpg',\n",
       " 'http://i1.mangapanda.com/nisekoi/1/nisekoi-2784589.jpg',\n",
       " 'http://i5.mangapanda.com/nisekoi/1/nisekoi-2784591.jpg',\n",
       " 'http://i5.mangapanda.com/nisekoi/1/nisekoi-2784593.jpg',\n",
       " 'http://i9.mangapanda.com/nisekoi/1/nisekoi-2784595.jpg',\n",
       " 'http://i7.mangapanda.com/nisekoi/1/nisekoi-2784597.jpg',\n",
       " 'http://i7.mangapanda.com/nisekoi/1/nisekoi-2784599.jpg',\n",
       " 'http://i9.mangapanda.com/nisekoi/1/nisekoi-2784601.jpg',\n",
       " 'http://i3.mangapanda.com/nisekoi/1/nisekoi-2784603.jpg',\n",
       " 'http://i3.mangapanda.com/nisekoi/1/nisekoi-2784605.jpg',\n",
       " 'http://i7.mangapanda.com/nisekoi/1/nisekoi-2784607.jpg',\n",
       " 'http://i7.mangapanda.com/nisekoi/1/nisekoi-2784609.jpg',\n",
       " 'http://i1.mangapanda.com/nisekoi/1/nisekoi-2784611.jpg',\n",
       " 'http://i1.mangapanda.com/nisekoi/1/nisekoi-2784613.jpg',\n",
       " 'http://i1.mangapanda.com/nisekoi/1/nisekoi-2784615.jpg',\n",
       " 'http://i3.mangapanda.com/nisekoi/1/nisekoi-2784617.jpg',\n",
       " 'http://i1.mangapanda.com/nisekoi/1/nisekoi-2784619.jpg',\n",
       " 'http://i4.mangapanda.com/nisekoi/1/nisekoi-2784621.jpg',\n",
       " 'http://i8.mangapanda.com/nisekoi/1/nisekoi-2784623.jpg',\n",
       " 'http://i10.mangapanda.com/nisekoi/1/nisekoi-2784625.jpg',\n",
       " 'http://i6.mangapanda.com/nisekoi/1/nisekoi-2784627.jpg',\n",
       " 'http://i10.mangapanda.com/nisekoi/1/nisekoi-2784629.jpg',\n",
       " 'http://i2.mangapanda.com/nisekoi/1/nisekoi-2784631.jpg',\n",
       " 'http://i8.mangapanda.com/nisekoi/1/nisekoi-2784633.jpg',\n",
       " 'http://i8.mangapanda.com/nisekoi/1/nisekoi-2784635.jpg',\n",
       " 'http://i2.mangapanda.com/nisekoi/1/nisekoi-2784637.jpg',\n",
       " 'http://i4.mangapanda.com/nisekoi/1/nisekoi-2784639.jpg',\n",
       " 'http://i2.mangapanda.com/nisekoi/1/nisekoi-2784641.jpg',\n",
       " 'http://i6.mangapanda.com/nisekoi/1/nisekoi-2784643.jpg',\n",
       " 'http://i2.mangapanda.com/nisekoi/1/nisekoi-2784645.jpg',\n",
       " 'http://i6.mangapanda.com/nisekoi/1/nisekoi-2784647.jpg',\n",
       " 'http://i10.mangapanda.com/nisekoi/1/nisekoi-2784649.jpg']"
      ]
     },
     "execution_count": 46,
     "metadata": {},
     "output_type": "execute_result"
    }
   ],
   "source": [
    "imageLink = []\n",
    "\n",
    "for p in range(1,maxPage+1):\n",
    "    url = chapterHost+str(p)\n",
    "    req = http.urlopen(\"GET\",url)\n",
    "    page = req.data\n",
    "    soup = BeautifulSoup(page, \"lxml\")\n",
    "    obj = soup.find(\"img\",{\"id\":\"img\"})\n",
    "    imageLink.append(obj[\"src\"])\n",
    "    \n",
    "[link for link in imageLink]"
   ]
  },
  {
   "cell_type": "markdown",
   "metadata": {},
   "source": [
    "### Saving Images\n",
    "There are two main points when we want to save those images: download folder and file name. For example, i'll set the folder to \"Nisekoi/1\" and the file name to \"X.jpg\" (X is an index number).\n",
    "\n",
    "First, we need to check whether folder \"Nisekoi/1\" is available or not in current folder (using os.path.exists(folder)). If there isn't one, we create that folder.\n",
    "\n",
    "Second, we iterate all the image links to make a request to its server and open its URL.\n",
    "\n",
    "At last, we save the opened URL as image in folder \"Nisekoi/1\"."
   ]
  },
  {
   "cell_type": "code",
   "execution_count": 48,
   "metadata": {
    "collapsed": true
   },
   "outputs": [],
   "source": [
    "import os\n",
    "\n",
    "folder = \"Nisekoi/1\"\n",
    "index = 1\n",
    "imgFormat = \".jpg\"\n",
    "\n",
    "if not os.path.exists(folder):\n",
    "    os.makedirs(folder)\n",
    "    \n",
    "for link in imageLink:\n",
    "    req = http.urlopen('GET',link)\n",
    "    with open(os.path.join(folder, str(index)+imgFormat),'wb') as img:\n",
    "        img.write(req.data)\n",
    "    index += 1"
   ]
  },
  {
   "cell_type": "code",
   "execution_count": null,
   "metadata": {
    "collapsed": true
   },
   "outputs": [],
   "source": []
  }
 ],
 "metadata": {
  "anaconda-cloud": {},
  "kernelspec": {
   "display_name": "Python [conda root]",
   "language": "python",
   "name": "conda-root-py"
  },
  "language_info": {
   "codemirror_mode": {
    "name": "ipython",
    "version": 3
   },
   "file_extension": ".py",
   "mimetype": "text/x-python",
   "name": "python",
   "nbconvert_exporter": "python",
   "pygments_lexer": "ipython3",
   "version": "3.5.2"
  }
 },
 "nbformat": 4,
 "nbformat_minor": 1
}
